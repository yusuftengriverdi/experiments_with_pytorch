{
 "cells": [
  {
   "cell_type": "code",
   "execution_count": 2,
   "id": "boolean-shipping",
   "metadata": {},
   "outputs": [],
   "source": [
    "import sklearn.datasets as datasets"
   ]
  },
  {
   "cell_type": "code",
   "execution_count": 3,
   "id": "following-mountain",
   "metadata": {},
   "outputs": [
    {
     "name": "stdout",
     "output_type": "stream",
     "text": [
      "Help on function load_breast_cancer in module sklearn.datasets._base:\n",
      "\n",
      "load_breast_cancer(*, return_X_y=False, as_frame=False)\n",
      "    Load and return the breast cancer wisconsin dataset (classification).\n",
      "    \n",
      "    The breast cancer dataset is a classic and very easy binary classification\n",
      "    dataset.\n",
      "    \n",
      "    =================   ==============\n",
      "    Classes                          2\n",
      "    Samples per class    212(M),357(B)\n",
      "    Samples total                  569\n",
      "    Dimensionality                  30\n",
      "    Features            real, positive\n",
      "    =================   ==============\n",
      "    \n",
      "    Read more in the :ref:`User Guide <breast_cancer_dataset>`.\n",
      "    \n",
      "    Parameters\n",
      "    ----------\n",
      "    return_X_y : bool, default=False\n",
      "        If True, returns ``(data, target)`` instead of a Bunch object.\n",
      "        See below for more information about the `data` and `target` object.\n",
      "    \n",
      "        .. versionadded:: 0.18\n",
      "    \n",
      "    as_frame : bool, default=False\n",
      "        If True, the data is a pandas DataFrame including columns with\n",
      "        appropriate dtypes (numeric). The target is\n",
      "        a pandas DataFrame or Series depending on the number of target columns.\n",
      "        If `return_X_y` is True, then (`data`, `target`) will be pandas\n",
      "        DataFrames or Series as described below.\n",
      "    \n",
      "        .. versionadded:: 0.23\n",
      "    \n",
      "    Returns\n",
      "    -------\n",
      "    data : :class:`~sklearn.utils.Bunch`\n",
      "        Dictionary-like object, with the following attributes.\n",
      "    \n",
      "        data : {ndarray, dataframe} of shape (569, 30)\n",
      "            The data matrix. If `as_frame=True`, `data` will be a pandas\n",
      "            DataFrame.\n",
      "        target: {ndarray, Series} of shape (569,)\n",
      "            The classification target. If `as_frame=True`, `target` will be\n",
      "            a pandas Series.\n",
      "        feature_names: list\n",
      "            The names of the dataset columns.\n",
      "        target_names: list\n",
      "            The names of target classes.\n",
      "        frame: DataFrame of shape (569, 31)\n",
      "            Only present when `as_frame=True`. DataFrame with `data` and\n",
      "            `target`.\n",
      "    \n",
      "            .. versionadded:: 0.23\n",
      "        DESCR: str\n",
      "            The full description of the dataset.\n",
      "        filename: str\n",
      "            The path to the location of the data.\n",
      "    \n",
      "            .. versionadded:: 0.20\n",
      "    \n",
      "    (data, target) : tuple if ``return_X_y`` is True\n",
      "    \n",
      "        .. versionadded:: 0.18\n",
      "    \n",
      "    The copy of UCI ML Breast Cancer Wisconsin (Diagnostic) dataset is\n",
      "    downloaded from:\n",
      "    https://goo.gl/U2Uwz2\n",
      "    \n",
      "    Examples\n",
      "    --------\n",
      "    Let's say you are interested in the samples 10, 50, and 85, and want to\n",
      "    know their class name.\n",
      "    \n",
      "    >>> from sklearn.datasets import load_breast_cancer\n",
      "    >>> data = load_breast_cancer()\n",
      "    >>> data.target[[10, 50, 85]]\n",
      "    array([0, 1, 0])\n",
      "    >>> list(data.target_names)\n",
      "    ['malignant', 'benign']\n",
      "\n"
     ]
    }
   ],
   "source": [
    "help(datasets.load_breast_cancer)"
   ]
  },
  {
   "cell_type": "code",
   "execution_count": 4,
   "id": "magnetic-better",
   "metadata": {},
   "outputs": [],
   "source": [
    "breast_cancer = datasets.load_breast_cancer()"
   ]
  },
  {
   "cell_type": "code",
   "execution_count": 5,
   "id": "genuine-context",
   "metadata": {},
   "outputs": [
    {
     "data": {
      "text/plain": [
       "array([1.799e+01, 1.038e+01, 1.228e+02, 1.001e+03, 1.184e-01, 2.776e-01,\n",
       "       3.001e-01, 1.471e-01, 2.419e-01, 7.871e-02, 1.095e+00, 9.053e-01,\n",
       "       8.589e+00, 1.534e+02, 6.399e-03, 4.904e-02, 5.373e-02, 1.587e-02,\n",
       "       3.003e-02, 6.193e-03, 2.538e+01, 1.733e+01, 1.846e+02, 2.019e+03,\n",
       "       1.622e-01, 6.656e-01, 7.119e-01, 2.654e-01, 4.601e-01, 1.189e-01])"
      ]
     },
     "execution_count": 5,
     "metadata": {},
     "output_type": "execute_result"
    }
   ],
   "source": [
    "breast_cancer['data'][0]"
   ]
  },
  {
   "cell_type": "code",
   "execution_count": 6,
   "id": "confident-slide",
   "metadata": {},
   "outputs": [
    {
     "data": {
      "text/plain": [
       "(569, 30)"
      ]
     },
     "execution_count": 6,
     "metadata": {},
     "output_type": "execute_result"
    }
   ],
   "source": [
    "breast_cancer['data'].shape"
   ]
  },
  {
   "cell_type": "code",
   "execution_count": 43,
   "id": "assumed-least",
   "metadata": {},
   "outputs": [],
   "source": [
    "train_targets = breast_cancer['target'][:500]\n",
    "train_features = breast_cancer['data'][:500]"
   ]
  },
  {
   "cell_type": "code",
   "execution_count": 44,
   "id": "conditional-offer",
   "metadata": {},
   "outputs": [],
   "source": [
    "def get_indices(data, condition):\n",
    "    indices = []\n",
    "    for indice in range(len(data)):\n",
    "        if data[indice] == condition:\n",
    "            indices.append(indice)\n",
    "    return indices            "
   ]
  },
  {
   "cell_type": "code",
   "execution_count": 45,
   "id": "endangered-wildlife",
   "metadata": {},
   "outputs": [
    {
     "data": {
      "text/plain": [
       "[4, 8]"
      ]
     },
     "execution_count": 45,
     "metadata": {},
     "output_type": "execute_result"
    }
   ],
   "source": [
    "# test run of function\n",
    "data = [0, 1, 2,2 ,3,4, 5, 4, 3]\n",
    "condition = 3\n",
    "get_indices(data,condition)"
   ]
  },
  {
   "cell_type": "code",
   "execution_count": 46,
   "id": "cross-child",
   "metadata": {},
   "outputs": [
    {
     "data": {
      "text/plain": [
       "(195, 305)"
      ]
     },
     "execution_count": 46,
     "metadata": {},
     "output_type": "execute_result"
    }
   ],
   "source": [
    "class_one_indices = get_indices(train_targets, 0)\n",
    "class_two_indices = get_indices(train_targets, 1)\n",
    "\n",
    "len(class_one_indices), len(class_two_indices)"
   ]
  },
  {
   "cell_type": "code",
   "execution_count": 47,
   "id": "radical-cigarette",
   "metadata": {},
   "outputs": [],
   "source": [
    "class_one_features = train_features[class_one_indices]\n",
    "class_one_targets = train_targets[class_one_indices]\n",
    "\n",
    "class_two_features = train_features[class_two_indices]\n",
    "class_two_targets = train_targets[class_two_indices]"
   ]
  },
  {
   "cell_type": "code",
   "execution_count": 13,
   "id": "talented-spider",
   "metadata": {},
   "outputs": [
    {
     "data": {
      "image/png": "[encoded data removed]",
      "text/plain": [
       "<Figure size 432x288 with 1 Axes>"
      ]
     },
     "metadata": {
      "needs_background": "light"
     },
     "output_type": "display_data"
    }
   ],
   "source": [
    "import matplotlib.pyplot as plt\n",
    "import numpy as np\n",
    "\n",
    "x = np.asarray([i for i in range(0,100)])\n",
    "y = train_targets[:100]\n",
    "\n",
    "plt.scatter(x, y)\n",
    "plt.show()"
   ]
  },
  {
   "cell_type": "code",
   "execution_count": 14,
   "id": "indie-writer",
   "metadata": {},
   "outputs": [
    {
     "data": {
      "text/plain": [
       "array(['mean radius', 'mean texture', 'mean perimeter', 'mean area',\n",
       "       'mean smoothness', 'mean compactness', 'mean concavity',\n",
       "       'mean concave points', 'mean symmetry', 'mean fractal dimension',\n",
       "       'radius error', 'texture error', 'perimeter error', 'area error',\n",
       "       'smoothness error', 'compactness error', 'concavity error',\n",
       "       'concave points error', 'symmetry error',\n",
       "       'fractal dimension error', 'worst radius', 'worst texture',\n",
       "       'worst perimeter', 'worst area', 'worst smoothness',\n",
       "       'worst compactness', 'worst concavity', 'worst concave points',\n",
       "       'worst symmetry', 'worst fractal dimension'], dtype='<U23')"
      ]
     },
     "execution_count": 14,
     "metadata": {},
     "output_type": "execute_result"
    }
   ],
   "source": [
    "breast_cancer['feature_names']"
   ]
  },
  {
   "cell_type": "code",
   "execution_count": 41,
   "id": "emotional-symbol",
   "metadata": {},
   "outputs": [
    {
     "name": "stdout",
     "output_type": "stream",
     "text": [
      "60\n"
     ]
    },
    {
     "data": {
      "image/png": "[encoded data removed]",
      "text/plain": [
       "<Figure size 432x288 with 1 Axes>"
      ]
     },
     "metadata": {
      "needs_background": "light"
     },
     "output_type": "display_data"
    },
    {
     "data": {
      "image/png": "[encoded data removed]",
      "text/plain": [
       "<Figure size 432x288 with 1 Axes>"
      ]
     },
     "metadata": {
      "needs_background": "light"
     },
     "output_type": "display_data"
    }
   ],
   "source": [
    "x = np.asarray([i for i in range(0,500)])\n",
    "y1 = class_one_features[ 0]\n",
    "y2 = class_two_features[ 0]\n",
    "print(np.asarray([y1,y2]).size)\n",
    "\n",
    "colors = []\n",
    "for i in range(0,500):\n",
    "    if train_targets[i] == 0:\n",
    "        colors.append('red')\n",
    "    else:\n",
    "        colors.append('blue')\n",
    "    \n",
    "plt.scatter(x, train_features[:,0], color =colors)\n",
    "plt.show()\n",
    "\n",
    "plt.scatter(x, train_features[:,1], color =colors)\n",
    "plt.show()"
   ]
  },
  {
   "cell_type": "markdown",
   "id": "foster-option",
   "metadata": {},
   "source": [
    "### DEFINE MEAN, STANDARD VALUE ETC."
   ]
  },
  {
   "cell_type": "code",
   "execution_count": 148,
   "id": "worse-arizona",
   "metadata": {},
   "outputs": [],
   "source": [
    "import numpy as np"
   ]
  },
  {
   "cell_type": "code",
   "execution_count": 16,
   "id": "becoming-regression",
   "metadata": {},
   "outputs": [
    {
     "data": {
      "text/plain": [
       "(17.375128205128203, 3.166342929574434)"
      ]
     },
     "execution_count": 16,
     "metadata": {},
     "output_type": "execute_result"
    },
    {
     "data": {
      "image/png": "[encoded data removed]",
      "text/plain": [
       "<Figure size 432x288 with 1 Axes>"
      ]
     },
     "metadata": {
      "needs_background": "light"
     },
     "output_type": "display_data"
    }
   ],
   "source": [
    "#class_one_features[:,0].size,\n",
    "#x[:len(class_one_features)].size\n",
    "plt.scatter(x[:len(class_one_features)], class_one_features[:,0], color ='blue')\n",
    "np.mean(class_one_features[:,0]), np.std(class_one_features[:,0])"
   ]
  },
  {
   "cell_type": "code",
   "execution_count": 32,
   "id": "legitimate-appendix",
   "metadata": {},
   "outputs": [
    {
     "data": {
      "text/plain": [
       "[(17.375128205128203, 3.166342929574434, 195),\n",
       " (21.446666666666665, 3.7482106044141563, 195),\n",
       " (114.72953846153844, 21.60247821235303, 195),\n",
       " (968.6010256410257, 363.8831872286297, 195),\n",
       " (0.10279230769230768, 0.012812256163841306, 195),\n",
       " (0.14434071794871794, 0.054063353515396206, 195),\n",
       " (0.15855523076923075, 0.0746592193034325, 195),\n",
       " (0.08698046153846153, 0.03423174271828082, 195),\n",
       " (0.19286615384615383, 0.027751778563044005, 195),\n",
       " (0.06263605128205128, 0.007624616294502682, 195),\n",
       " (0.6057651282051282, 0.3467630066543401, 195),\n",
       " (1.202345641025641, 0.4829911469369401, 195),\n",
       " (4.289846153846153, 2.5832070500660316, 195),\n",
       " (72.17938461538462, 62.228949109828385, 195),\n",
       " (0.0068238051282051276, 0.0029578304805665543, 195),\n",
       " (0.03221931794871795, 0.01880622853182467, 195),\n",
       " (0.04145133333333333, 0.021973630519834954, 195),\n",
       " (0.01494311282051282, 0.00556984969806784, 195),\n",
       " (0.02065948205128205, 0.010349543109124507, 195),\n",
       " (0.0040533641025641024, 0.0020726372165750296, 195),\n",
       " (21.070153846153847, 4.232437314049318, 195),\n",
       " (29.17410256410256, 5.389269927221585, 195),\n",
       " (140.73389743589743, 28.993354272823982, 195),\n",
       " (1414.531282051282, 594.9875186761548, 195),\n",
       " (0.14530353846153846, 0.02192493591002667, 195),\n",
       " (0.374238, 0.16872148775225201, 195),\n",
       " (0.44689938461538453, 0.1757483528219292, 195),\n",
       " (0.18138107692307692, 0.04613932252922252, 195),\n",
       " (0.3254271794871795, 0.0754611812567236, 195)]"
      ]
     },
     "execution_count": 32,
     "metadata": {},
     "output_type": "execute_result"
    }
   ],
   "source": [
    "class_one_summaries = [(np.mean(column), np.std(column), len(column)) for column in zip(*class_one_features)]\n",
    "class_two_summaries = [(np.mean(column), np.std(column), len(column)) for column in zip(*class_two_features)]\n",
    "\n",
    "del(class_one_summaries[-1])\n",
    "del(class_two_summaries[-1])\n",
    "\n",
    "class_one_summaries"
   ]
  },
  {
   "cell_type": "markdown",
   "id": "killing-cabin",
   "metadata": {},
   "source": [
    "## Gaussian Probability Density Function"
   ]
  },
  {
   "cell_type": "code",
   "execution_count": 90,
   "id": "annoying-colleague",
   "metadata": {},
   "outputs": [
    {
     "name": "stdout",
     "output_type": "stream",
     "text": [
      "0.3989422804014327\n",
      "0.24197072451914337\n",
      "0.24197072451914337\n"
     ]
    }
   ],
   "source": [
    "# REFERENCE : https://machinelearningmastery.com/naive-bayes-classifier-scratch-python/\n",
    "# Example of Gaussian PDF\n",
    "import math\n",
    "\n",
    "\n",
    "# Calculate the Gaussian probability distribution function for x\n",
    "def calculate_gaussian_pdf(x, mean, stdev):\n",
    "    exponent = math.exp(-((x-mean)**2 / (2 * stdev**2 )))\n",
    "    return (1 / (math.sqrt(2 * math.pi) * stdev)) * exponent\n",
    "# Test Gaussian PDF\n",
    "print(calculate_gaussian_pdf(1.0, 1.0, 1.0))\n",
    "print(calculate_gaussian_pdf(2.0, 1.0, 1.0))\n",
    "print(calculate_gaussian_pdf(0.0, 1.0, 1.0))\n",
    "\n",
    "\n",
    "def normal_pdf(x: float, mu: float = 0, sigma: float = 1) -> float:\n",
    "    num = math.exp(-(x-mu)**2 / 2 / sigma**2)\n",
    "    den = math.sqrt(2*pi)*sigma\n",
    "    return num/den"
   ]
  },
  {
   "cell_type": "code",
   "execution_count": 20,
   "id": "played-paraguay",
   "metadata": {},
   "outputs": [
    {
     "data": {
      "text/plain": [
       "(195, 305)"
      ]
     },
     "execution_count": 20,
     "metadata": {},
     "output_type": "execute_result"
    }
   ],
   "source": [
    "# Example of calculating class probabilities\n",
    "from math import sqrt\n",
    "from math import pi\n",
    "from math import exp\n",
    "\n",
    "\n",
    "summaries = dict()\n",
    "summaries[1]  = class_one_summaries\n",
    "summaries[2]  = class_two_summaries\n",
    "\n",
    "summaries[1][0][2], summaries[2][0][2]"
   ]
  },
  {
   "cell_type": "code",
   "execution_count": 64,
   "id": "annoying-assignment",
   "metadata": {},
   "outputs": [
    {
     "data": {
      "text/plain": [
       "{1: [(17.375128205128203, 3.166342929574434, 195),\n",
       "  (21.446666666666665, 3.7482106044141563, 195),\n",
       "  (114.72953846153844, 21.60247821235303, 195),\n",
       "  (968.6010256410257, 363.8831872286297, 195),\n",
       "  (0.10279230769230768, 0.012812256163841306, 195),\n",
       "  (0.14434071794871794, 0.054063353515396206, 195),\n",
       "  (0.15855523076923075, 0.0746592193034325, 195),\n",
       "  (0.08698046153846153, 0.03423174271828082, 195),\n",
       "  (0.19286615384615383, 0.027751778563044005, 195),\n",
       "  (0.06263605128205128, 0.007624616294502682, 195),\n",
       "  (0.6057651282051282, 0.3467630066543401, 195),\n",
       "  (1.202345641025641, 0.4829911469369401, 195),\n",
       "  (4.289846153846153, 2.5832070500660316, 195),\n",
       "  (72.17938461538462, 62.228949109828385, 195),\n",
       "  (0.0068238051282051276, 0.0029578304805665543, 195),\n",
       "  (0.03221931794871795, 0.01880622853182467, 195),\n",
       "  (0.04145133333333333, 0.021973630519834954, 195),\n",
       "  (0.01494311282051282, 0.00556984969806784, 195),\n",
       "  (0.02065948205128205, 0.010349543109124507, 195),\n",
       "  (0.0040533641025641024, 0.0020726372165750296, 195),\n",
       "  (21.070153846153847, 4.232437314049318, 195),\n",
       "  (29.17410256410256, 5.389269927221585, 195),\n",
       "  (140.73389743589743, 28.993354272823982, 195),\n",
       "  (1414.531282051282, 594.9875186761548, 195),\n",
       "  (0.14530353846153846, 0.02192493591002667, 195),\n",
       "  (0.374238, 0.16872148775225201, 195),\n",
       "  (0.44689938461538453, 0.1757483528219292, 195),\n",
       "  (0.18138107692307692, 0.04613932252922252, 195),\n",
       "  (0.3254271794871795, 0.0754611812567236, 195)],\n",
       " 2: [(12.209681967213116, 1.720837341119971, 305),\n",
       "  (17.577245901639344, 3.6820652110223286, 305),\n",
       "  (78.46245901639344, 11.390709480880833, 305),\n",
       "  (467.3613114754099, 130.54618708416749, 305),\n",
       "  (0.09162190163934425, 0.01232696669335882, 305),\n",
       "  (0.07812268852459016, 0.032148664485195516, 305),\n",
       "  (0.04607274983606558, 0.04517216005347101, 305),\n",
       "  (0.02544822950819672, 0.01570766864586561, 305),\n",
       "  (0.17401999999999998, 0.025017270624674404, 305),\n",
       "  (0.06240832786885246, 0.006320606436772313, 305),\n",
       "  (0.28440590163934426, 0.11404931129907626, 305),\n",
       "  (1.1986291803278688, 0.5699874460230842, 305),\n",
       "  (2.005717049180328, 0.777167595511164, 305),\n",
       "  (21.27692131147541, 8.977980015263114, 305),\n",
       "  (0.00700344918032787, 0.0029285451126669633, 305),\n",
       "  (0.02132209836065574, 0.016872238934779592, 305),\n",
       "  (0.02620772, 0.034730726090817204, 305),\n",
       "  (0.009782685245901639, 0.005732253664831925, 305),\n",
       "  (0.020662783606557378, 0.007100972728960179, 305),\n",
       "  (0.003589873114754099, 0.0030412115516409836, 305),\n",
       "  (13.450196721311475, 1.9231962383326333, 305),\n",
       "  (23.164918032786886, 5.243288988746556, 305),\n",
       "  (87.49524590163934, 13.143867735103433, 305),\n",
       "  (564.4852459016394, 159.44790509145702, 305),\n",
       "  (0.12344888524590164, 0.018771126015028436, 305),\n",
       "  (0.18093695081967215, 0.09308734373067934, 305),\n",
       "  (0.1674254, 0.14582328477579956, 305),\n",
       "  (0.0741662655737705, 0.035499218092127346, 305),\n",
       "  (0.2709760655737705, 0.042097695715089804, 305)]}"
      ]
     },
     "execution_count": 64,
     "metadata": {},
     "output_type": "execute_result"
    }
   ],
   "source": [
    "summaries"
   ]
  },
  {
   "cell_type": "code",
   "execution_count": 135,
   "id": "latin-sacrifice",
   "metadata": {},
   "outputs": [],
   "source": [
    "from math import log\n",
    "\n",
    "def split_by_classes(features= train_features, targets= train_targets):\n",
    "    class_one_indices = get_indices(targets, 0)\n",
    "    class_two_indices = get_indices(targets, 1)\n",
    "    print(len(class_one_indices), len(class_two_indices))\n",
    "    \n",
    "    class_one_features = features[class_one_indices]\n",
    "    class_one_targets = targets[class_one_indices]\n",
    "\n",
    "    class_two_features = features[class_two_indices]\n",
    "    class_two_targets = targets[class_two_indices]\n",
    "    \n",
    "    return class_one_features,class_one_targets, class_two_features, class_two_targets\n",
    "    \n",
    "def create_summaries(class_one_features, class_two_features):\n",
    "    class_one_summaries = [(np.mean(column), np.std(column), len(column)) for column in zip(*class_one_features)]\n",
    "    class_two_summaries = [(np.mean(column), np.std(column), len(column)) for column in zip(*class_two_features)]\n",
    "\n",
    "    del(class_one_summaries[-1])\n",
    "    del(class_two_summaries[-1])\n",
    "    \n",
    "    summaries = dict()\n",
    "    summaries[1]  = class_one_summaries\n",
    "    summaries[2]  = class_two_summaries\n",
    "    return summaries\n",
    "    \n",
    "# Calculate the probabilities of predicting each class for a given row\n",
    "def calculate_probabilities(summaries, row):\n",
    "    total_rows = sum([summaries[label][0][2] for label in summaries])\n",
    "    #print(total_rows)\n",
    "    probabilities = dict()\n",
    "    for class_value, class_summaries in summaries.items():\n",
    "        probabilities[class_value] = summaries[class_value][0][2]/float(total_rows)\n",
    "        for i in range(len(class_summaries)):\n",
    "            if i ==13: continue\n",
    "            mean, stdev, _ = class_summaries[i]\n",
    "            pdf = normal_pdf(row[i], mean, stdev)\n",
    "            \n",
    "            probabilities[class_value] *= pdf\n",
    "            if pdf <= 0: print(pdf,probabilities[class_value], i, row[i], mean, stdev )\n",
    "    return probabilities\n",
    "\n",
    "def calculate_log_probabilities(summaries, row):\n",
    "    total_rows = sum([summaries[label][0][2] for label in summaries])\n",
    "    #print(total_rows)\n",
    "    probabilities = dict()\n",
    "    for class_value, class_summaries in summaries.items():\n",
    "        probabilities[class_value] = log(summaries[class_value][0][2]/float(total_rows))\n",
    "        for i in range(len(class_summaries)):\n",
    "            if i ==13: continue\n",
    "            mean, stdev, _ = class_summaries[i]\n",
    "            probabilities[class_value] += log(calculate_gaussian_pdf(row[i], mean, stdev))\n",
    "            if pdf <= 0: print(pdf,probabilities[class_value], i, row[i], mean, stdev )\n",
    "    return probabilities\n",
    "\n",
    "\n",
    "def calculate_accuracy(summaries= summaries, features= train_features, targets= train_targets):\n",
    "    match_number = 0\n",
    "    predictions = []\n",
    "    for i in range(0,len(features)):\n",
    "        probabilities = calculate_probabilities(summaries, features[i])\n",
    "        if probabilities[1] >= probabilities[2]:\n",
    "            prediction = 0\n",
    "        else: \n",
    "            prediction = 1\n",
    "        ground_truth = targets[i]\n",
    "        predictions.append(prediction)\n",
    "        if (prediction==ground_truth):\n",
    "            match_number = match_number + 1\n",
    "        else:\n",
    "            match_number = match_number + 0\n",
    "    accuracy = (float) (match_number/len(features))\n",
    "    predictions = np.asarray(predictions)\n",
    "    return accuracy, match_number,  predictions\n",
    "\n",
    "\n",
    "\n",
    "train_acc, _ , predictions = calculate_accuracy()"
   ]
  },
  {
   "cell_type": "markdown",
   "id": "molecular-image",
   "metadata": {},
   "source": [
    "\n",
    "### TEST SET"
   ]
  },
  {
   "cell_type": "code",
   "execution_count": 110,
   "id": "important-norway",
   "metadata": {},
   "outputs": [
    {
     "name": "stdout",
     "output_type": "stream",
     "text": [
      "17 52\n"
     ]
    },
    {
     "data": {
      "text/plain": [
       "(0.9710144927536232, 67)"
      ]
     },
     "execution_count": 110,
     "metadata": {},
     "output_type": "execute_result"
    }
   ],
   "source": [
    "#DOING SAME PROCEDURE\n",
    "\n",
    "test_targets = breast_cancer['target'][500:]\n",
    "test_features = breast_cancer['data'][500:]\n",
    "\n",
    "c1_f, c1_t, c2_f, c2_t = split_by_classes(test_features, test_targets)\n",
    "\n",
    "sums = create_summaries(c1_f, c2_f)\n",
    "\n",
    "test_acc, matches , _ = calculate_accuracy(summaries= sums, features=test_features, targets=test_targets)\n",
    "test_acc, matches"
   ]
  },
  {
   "cell_type": "markdown",
   "id": "dominant-steps",
   "metadata": {},
   "source": [
    "### CONFUSION MATRIX"
   ]
  },
  {
   "cell_type": "code",
   "execution_count": 111,
   "id": "identified-clinic",
   "metadata": {},
   "outputs": [
    {
     "name": "stdout",
     "output_type": "stream",
     "text": [
      "TP: 0.586\n",
      "FP: 0.024\n",
      "FN: 0.036\n",
      "TN: 0.354\n",
      "misclassification error:  0.06000000000000005\n"
     ]
    }
   ],
   "source": [
    "accuracy, match_number, predictions= calculate_accuracy()\n",
    "\n",
    "def true_positive_rate():\n",
    "    counter = 0\n",
    "    for j in range(len(train_targets)):\n",
    "        if ((predictions[j] ==1) and (train_targets[j] ==1)):\n",
    "            counter += 1\n",
    "    tp_rate = counter / len(train_targets)\n",
    "    print(\"TP:\", tp_rate)\n",
    "\n",
    "def false_positive_rate():\n",
    "    counter = 0\n",
    "    for j in range(len(train_targets)):\n",
    "        if ((predictions[j] ==0) and (train_targets[j] ==1)):\n",
    "            counter += 1\n",
    "\n",
    "    fp_rate = counter / len(train_targets)\n",
    "    print(\"FP:\",fp_rate)\n",
    "\n",
    "def false_negative_rate():\n",
    "    counter = 0\n",
    "    for j in range(len(train_targets)):\n",
    "        if ((predictions[j] ==1) and (train_targets[j] ==0)):\n",
    "            counter += 1\n",
    "\n",
    "    fn_rate = counter / len(train_targets)\n",
    "    print(\"FN:\",fn_rate)\n",
    "    \n",
    "def true_negative_rate():\n",
    "    counter = 0\n",
    "    for j in range(len(train_targets)):\n",
    "        if ((predictions[j] ==0) and (train_targets[j] ==0)):\n",
    "            counter += 1\n",
    "\n",
    "    tn_rate = counter / len(train_targets)\n",
    "    print(\"TN:\",tn_rate)\n",
    "\n",
    "\n",
    "true_positive_rate()\n",
    "false_positive_rate()\n",
    "false_negative_rate()\n",
    "true_negative_rate()\n",
    "\n",
    "print(\"misclassification error: \", 1- accuracy)"
   ]
  },
  {
   "cell_type": "markdown",
   "id": "unknown-setup",
   "metadata": {},
   "source": [
    "##### NULL RATE"
   ]
  },
  {
   "cell_type": "markdown",
   "id": "convertible-bibliography",
   "metadata": {},
   "source": [
    "If we classifed to the prior class- always Benign Tumor in this case- what would we rate as error, would be null rate. "
   ]
  },
  {
   "cell_type": "code",
   "execution_count": 27,
   "id": "existing-holder",
   "metadata": {},
   "outputs": [
    {
     "data": {
      "text/plain": [
       "array(['malignant', 'benign'], dtype='<U9')"
      ]
     },
     "execution_count": 27,
     "metadata": {},
     "output_type": "execute_result"
    }
   ],
   "source": [
    "breast_cancer['target_names']"
   ]
  },
  {
   "cell_type": "code",
   "execution_count": 112,
   "id": "dated-basics",
   "metadata": {},
   "outputs": [
    {
     "name": "stdout",
     "output_type": "stream",
     "text": [
      "real trai, misclassification error:  0.02898550724637683\n",
      "null rate, misclassification error:  0.378\n"
     ]
    }
   ],
   "source": [
    "accuracy, match_number, _= calculate_accuracy(targets= np.ones(len(train_targets)))\n",
    "\n",
    "print(\"real trai, misclassification error: \", 1- train_acc)\n",
    "print(\"null rate, misclassification error: \", 1- accuracy)"
   ]
  },
  {
   "cell_type": "code",
   "execution_count": 122,
   "id": "psychological-batman",
   "metadata": {},
   "outputs": [
    {
     "data": {
      "text/plain": [
       "(500,)"
      ]
     },
     "execution_count": 122,
     "metadata": {},
     "output_type": "execute_result"
    }
   ],
   "source": [
    "train_targets.shape"
   ]
  },
  {
   "cell_type": "markdown",
   "id": "pointed-reaction",
   "metadata": {},
   "source": [
    "## Decision Boundary for the Training and Testset.\n"
   ]
  },
  {
   "cell_type": "code",
   "execution_count": 136,
   "id": "adequate-dealing",
   "metadata": {},
   "outputs": [
    {
     "name": "stderr",
     "output_type": "stream",
     "text": [
      "*c* argument looks like a single numeric RGB or RGBA sequence, which should be avoided as value-mapping will have precedence in case its length matches with *x* & *y*.  Please use the *color* keyword-argument or provide a 2-D array with a single row if you intend to specify the same RGB or RGBA value for all points.\n",
      "*c* argument looks like a single numeric RGB or RGBA sequence, which should be avoided as value-mapping will have precedence in case its length matches with *x* & *y*.  Please use the *color* keyword-argument or provide a 2-D array with a single row if you intend to specify the same RGB or RGBA value for all points.\n"
     ]
    },
    {
     "data": {
      "image/png": "[encoded data removed]",
      "text/plain": [
       "<Figure size 432x288 with 1 Axes>"
      ]
     },
     "metadata": {
      "needs_background": "light"
     },
     "output_type": "display_data"
    },
    {
     "ename": "TypeError",
     "evalue": "Input z must be 2D, not 1D",
     "output_type": "error",
     "traceback": [
      "\u001b[1;31m---------------------------------------------------------------------------\u001b[0m",
      "\u001b[1;31mTypeError\u001b[0m                                 Traceback (most recent call last)",
      "\u001b[1;32m<ipython-input-136-cceb05d8c10f>\u001b[0m in \u001b[0;36m<module>\u001b[1;34m\u001b[0m\n\u001b[0;32m     34\u001b[0m X1, X2 = np.meshgrid(np.arange(start = X_set[:, 0].min() - 1, stop = X_set[:, 0].max() + 1, step = 0.1),\n\u001b[0;32m     35\u001b[0m                      np.arange(start = X_set[:, 1].min() - 1, stop = X_set[:, 1].max() + 1, step = 0.1))\n\u001b[1;32m---> 36\u001b[1;33m plt.contourf(X1, X2, predictions,\n\u001b[0m\u001b[0;32m     37\u001b[0m              alpha = 0.75, cmap = ListedColormap(('orange', 'green')))\n\u001b[0;32m     38\u001b[0m \u001b[0mplt\u001b[0m\u001b[1;33m.\u001b[0m\u001b[0mxlim\u001b[0m\u001b[1;33m(\u001b[0m\u001b[0mX1\u001b[0m\u001b[1;33m.\u001b[0m\u001b[0mmin\u001b[0m\u001b[1;33m(\u001b[0m\u001b[1;33m)\u001b[0m\u001b[1;33m,\u001b[0m \u001b[0mX1\u001b[0m\u001b[1;33m.\u001b[0m\u001b[0mmax\u001b[0m\u001b[1;33m(\u001b[0m\u001b[1;33m)\u001b[0m\u001b[1;33m)\u001b[0m\u001b[1;33m\u001b[0m\u001b[1;33m\u001b[0m\u001b[0m\n",
      "\u001b[1;32m~\\AppData\\Roaming\\Python\\Python39\\site-packages\\matplotlib\\pyplot.py\u001b[0m in \u001b[0;36mcontourf\u001b[1;34m(data, *args, **kwargs)\u001b[0m\n\u001b[0;32m   2575\u001b[0m \u001b[1;33m@\u001b[0m\u001b[0m_copy_docstring_and_deprecators\u001b[0m\u001b[1;33m(\u001b[0m\u001b[0mAxes\u001b[0m\u001b[1;33m.\u001b[0m\u001b[0mcontourf\u001b[0m\u001b[1;33m)\u001b[0m\u001b[1;33m\u001b[0m\u001b[1;33m\u001b[0m\u001b[0m\n\u001b[0;32m   2576\u001b[0m \u001b[1;32mdef\u001b[0m \u001b[0mcontourf\u001b[0m\u001b[1;33m(\u001b[0m\u001b[1;33m*\u001b[0m\u001b[0margs\u001b[0m\u001b[1;33m,\u001b[0m \u001b[0mdata\u001b[0m\u001b[1;33m=\u001b[0m\u001b[1;32mNone\u001b[0m\u001b[1;33m,\u001b[0m \u001b[1;33m**\u001b[0m\u001b[0mkwargs\u001b[0m\u001b[1;33m)\u001b[0m\u001b[1;33m:\u001b[0m\u001b[1;33m\u001b[0m\u001b[1;33m\u001b[0m\u001b[0m\n\u001b[1;32m-> 2577\u001b[1;33m     __ret = gca().contourf(\n\u001b[0m\u001b[0;32m   2578\u001b[0m         \u001b[1;33m*\u001b[0m\u001b[0margs\u001b[0m\u001b[1;33m,\u001b[0m \u001b[1;33m**\u001b[0m\u001b[1;33m(\u001b[0m\u001b[1;33m{\u001b[0m\u001b[1;34m\"data\"\u001b[0m\u001b[1;33m:\u001b[0m \u001b[0mdata\u001b[0m\u001b[1;33m}\u001b[0m \u001b[1;32mif\u001b[0m \u001b[0mdata\u001b[0m \u001b[1;32mis\u001b[0m \u001b[1;32mnot\u001b[0m \u001b[1;32mNone\u001b[0m \u001b[1;32melse\u001b[0m \u001b[1;33m{\u001b[0m\u001b[1;33m}\u001b[0m\u001b[1;33m)\u001b[0m\u001b[1;33m,\u001b[0m\u001b[1;33m\u001b[0m\u001b[1;33m\u001b[0m\u001b[0m\n\u001b[0;32m   2579\u001b[0m         **kwargs)\n",
      "\u001b[1;32m~\\AppData\\Roaming\\Python\\Python39\\site-packages\\matplotlib\\__init__.py\u001b[0m in \u001b[0;36minner\u001b[1;34m(ax, data, *args, **kwargs)\u001b[0m\n\u001b[0;32m   1445\u001b[0m     \u001b[1;32mdef\u001b[0m \u001b[0minner\u001b[0m\u001b[1;33m(\u001b[0m\u001b[0max\u001b[0m\u001b[1;33m,\u001b[0m \u001b[1;33m*\u001b[0m\u001b[0margs\u001b[0m\u001b[1;33m,\u001b[0m \u001b[0mdata\u001b[0m\u001b[1;33m=\u001b[0m\u001b[1;32mNone\u001b[0m\u001b[1;33m,\u001b[0m \u001b[1;33m**\u001b[0m\u001b[0mkwargs\u001b[0m\u001b[1;33m)\u001b[0m\u001b[1;33m:\u001b[0m\u001b[1;33m\u001b[0m\u001b[1;33m\u001b[0m\u001b[0m\n\u001b[0;32m   1446\u001b[0m         \u001b[1;32mif\u001b[0m \u001b[0mdata\u001b[0m \u001b[1;32mis\u001b[0m \u001b[1;32mNone\u001b[0m\u001b[1;33m:\u001b[0m\u001b[1;33m\u001b[0m\u001b[1;33m\u001b[0m\u001b[0m\n\u001b[1;32m-> 1447\u001b[1;33m             \u001b[1;32mreturn\u001b[0m \u001b[0mfunc\u001b[0m\u001b[1;33m(\u001b[0m\u001b[0max\u001b[0m\u001b[1;33m,\u001b[0m \u001b[1;33m*\u001b[0m\u001b[0mmap\u001b[0m\u001b[1;33m(\u001b[0m\u001b[0msanitize_sequence\u001b[0m\u001b[1;33m,\u001b[0m \u001b[0margs\u001b[0m\u001b[1;33m)\u001b[0m\u001b[1;33m,\u001b[0m \u001b[1;33m**\u001b[0m\u001b[0mkwargs\u001b[0m\u001b[1;33m)\u001b[0m\u001b[1;33m\u001b[0m\u001b[1;33m\u001b[0m\u001b[0m\n\u001b[0m\u001b[0;32m   1448\u001b[0m \u001b[1;33m\u001b[0m\u001b[0m\n\u001b[0;32m   1449\u001b[0m         \u001b[0mbound\u001b[0m \u001b[1;33m=\u001b[0m \u001b[0mnew_sig\u001b[0m\u001b[1;33m.\u001b[0m\u001b[0mbind\u001b[0m\u001b[1;33m(\u001b[0m\u001b[0max\u001b[0m\u001b[1;33m,\u001b[0m \u001b[1;33m*\u001b[0m\u001b[0margs\u001b[0m\u001b[1;33m,\u001b[0m \u001b[1;33m**\u001b[0m\u001b[0mkwargs\u001b[0m\u001b[1;33m)\u001b[0m\u001b[1;33m\u001b[0m\u001b[1;33m\u001b[0m\u001b[0m\n",
      "\u001b[1;32m~\\AppData\\Roaming\\Python\\Python39\\site-packages\\matplotlib\\axes\\_axes.py\u001b[0m in \u001b[0;36mcontourf\u001b[1;34m(self, *args, **kwargs)\u001b[0m\n\u001b[0;32m   6333\u001b[0m     \u001b[1;32mdef\u001b[0m \u001b[0mcontourf\u001b[0m\u001b[1;33m(\u001b[0m\u001b[0mself\u001b[0m\u001b[1;33m,\u001b[0m \u001b[1;33m*\u001b[0m\u001b[0margs\u001b[0m\u001b[1;33m,\u001b[0m \u001b[1;33m**\u001b[0m\u001b[0mkwargs\u001b[0m\u001b[1;33m)\u001b[0m\u001b[1;33m:\u001b[0m\u001b[1;33m\u001b[0m\u001b[1;33m\u001b[0m\u001b[0m\n\u001b[0;32m   6334\u001b[0m         \u001b[0mkwargs\u001b[0m\u001b[1;33m[\u001b[0m\u001b[1;34m'filled'\u001b[0m\u001b[1;33m]\u001b[0m \u001b[1;33m=\u001b[0m \u001b[1;32mTrue\u001b[0m\u001b[1;33m\u001b[0m\u001b[1;33m\u001b[0m\u001b[0m\n\u001b[1;32m-> 6335\u001b[1;33m         \u001b[0mcontours\u001b[0m \u001b[1;33m=\u001b[0m \u001b[0mmcontour\u001b[0m\u001b[1;33m.\u001b[0m\u001b[0mQuadContourSet\u001b[0m\u001b[1;33m(\u001b[0m\u001b[0mself\u001b[0m\u001b[1;33m,\u001b[0m \u001b[1;33m*\u001b[0m\u001b[0margs\u001b[0m\u001b[1;33m,\u001b[0m \u001b[1;33m**\u001b[0m\u001b[0mkwargs\u001b[0m\u001b[1;33m)\u001b[0m\u001b[1;33m\u001b[0m\u001b[1;33m\u001b[0m\u001b[0m\n\u001b[0m\u001b[0;32m   6336\u001b[0m         \u001b[0mself\u001b[0m\u001b[1;33m.\u001b[0m\u001b[0m_request_autoscale_view\u001b[0m\u001b[1;33m(\u001b[0m\u001b[1;33m)\u001b[0m\u001b[1;33m\u001b[0m\u001b[1;33m\u001b[0m\u001b[0m\n\u001b[0;32m   6337\u001b[0m         \u001b[1;32mreturn\u001b[0m \u001b[0mcontours\u001b[0m\u001b[1;33m\u001b[0m\u001b[1;33m\u001b[0m\u001b[0m\n",
      "\u001b[1;32m~\\AppData\\Roaming\\Python\\Python39\\site-packages\\matplotlib\\contour.py\u001b[0m in \u001b[0;36m__init__\u001b[1;34m(self, ax, levels, filled, linewidths, linestyles, hatches, alpha, origin, extent, cmap, colors, norm, vmin, vmax, extend, antialiased, nchunk, locator, transform, *args, **kwargs)\u001b[0m\n\u001b[0;32m    814\u001b[0m         \u001b[0mself\u001b[0m\u001b[1;33m.\u001b[0m\u001b[0m_transform\u001b[0m \u001b[1;33m=\u001b[0m \u001b[0mtransform\u001b[0m\u001b[1;33m\u001b[0m\u001b[1;33m\u001b[0m\u001b[0m\n\u001b[0;32m    815\u001b[0m \u001b[1;33m\u001b[0m\u001b[0m\n\u001b[1;32m--> 816\u001b[1;33m         \u001b[0mkwargs\u001b[0m \u001b[1;33m=\u001b[0m \u001b[0mself\u001b[0m\u001b[1;33m.\u001b[0m\u001b[0m_process_args\u001b[0m\u001b[1;33m(\u001b[0m\u001b[1;33m*\u001b[0m\u001b[0margs\u001b[0m\u001b[1;33m,\u001b[0m \u001b[1;33m**\u001b[0m\u001b[0mkwargs\u001b[0m\u001b[1;33m)\u001b[0m\u001b[1;33m\u001b[0m\u001b[1;33m\u001b[0m\u001b[0m\n\u001b[0m\u001b[0;32m    817\u001b[0m         \u001b[0mself\u001b[0m\u001b[1;33m.\u001b[0m\u001b[0m_process_levels\u001b[0m\u001b[1;33m(\u001b[0m\u001b[1;33m)\u001b[0m\u001b[1;33m\u001b[0m\u001b[1;33m\u001b[0m\u001b[0m\n\u001b[0;32m    818\u001b[0m \u001b[1;33m\u001b[0m\u001b[0m\n",
      "\u001b[1;32m~\\AppData\\Roaming\\Python\\Python39\\site-packages\\matplotlib\\contour.py\u001b[0m in \u001b[0;36m_process_args\u001b[1;34m(self, corner_mask, *args, **kwargs)\u001b[0m\n\u001b[0;32m   1428\u001b[0m             \u001b[0mself\u001b[0m\u001b[1;33m.\u001b[0m\u001b[0m_corner_mask\u001b[0m \u001b[1;33m=\u001b[0m \u001b[0mcorner_mask\u001b[0m\u001b[1;33m\u001b[0m\u001b[1;33m\u001b[0m\u001b[0m\n\u001b[0;32m   1429\u001b[0m \u001b[1;33m\u001b[0m\u001b[0m\n\u001b[1;32m-> 1430\u001b[1;33m             \u001b[0mx\u001b[0m\u001b[1;33m,\u001b[0m \u001b[0my\u001b[0m\u001b[1;33m,\u001b[0m \u001b[0mz\u001b[0m \u001b[1;33m=\u001b[0m \u001b[0mself\u001b[0m\u001b[1;33m.\u001b[0m\u001b[0m_contour_args\u001b[0m\u001b[1;33m(\u001b[0m\u001b[0margs\u001b[0m\u001b[1;33m,\u001b[0m \u001b[0mkwargs\u001b[0m\u001b[1;33m)\u001b[0m\u001b[1;33m\u001b[0m\u001b[1;33m\u001b[0m\u001b[0m\n\u001b[0m\u001b[0;32m   1431\u001b[0m \u001b[1;33m\u001b[0m\u001b[0m\n\u001b[0;32m   1432\u001b[0m             \u001b[0m_mask\u001b[0m \u001b[1;33m=\u001b[0m \u001b[0mma\u001b[0m\u001b[1;33m.\u001b[0m\u001b[0mgetmask\u001b[0m\u001b[1;33m(\u001b[0m\u001b[0mz\u001b[0m\u001b[1;33m)\u001b[0m\u001b[1;33m\u001b[0m\u001b[1;33m\u001b[0m\u001b[0m\n",
      "\u001b[1;32m~\\AppData\\Roaming\\Python\\Python39\\site-packages\\matplotlib\\contour.py\u001b[0m in \u001b[0;36m_contour_args\u001b[1;34m(self, args, kwargs)\u001b[0m\n\u001b[0;32m   1486\u001b[0m             \u001b[0margs\u001b[0m \u001b[1;33m=\u001b[0m \u001b[0margs\u001b[0m\u001b[1;33m[\u001b[0m\u001b[1;36m1\u001b[0m\u001b[1;33m:\u001b[0m\u001b[1;33m]\u001b[0m\u001b[1;33m\u001b[0m\u001b[1;33m\u001b[0m\u001b[0m\n\u001b[0;32m   1487\u001b[0m         \u001b[1;32melif\u001b[0m \u001b[0mNargs\u001b[0m \u001b[1;33m<=\u001b[0m \u001b[1;36m4\u001b[0m\u001b[1;33m:\u001b[0m\u001b[1;33m\u001b[0m\u001b[1;33m\u001b[0m\u001b[0m\n\u001b[1;32m-> 1488\u001b[1;33m             \u001b[0mx\u001b[0m\u001b[1;33m,\u001b[0m \u001b[0my\u001b[0m\u001b[1;33m,\u001b[0m \u001b[0mz\u001b[0m \u001b[1;33m=\u001b[0m \u001b[0mself\u001b[0m\u001b[1;33m.\u001b[0m\u001b[0m_check_xyz\u001b[0m\u001b[1;33m(\u001b[0m\u001b[0margs\u001b[0m\u001b[1;33m[\u001b[0m\u001b[1;33m:\u001b[0m\u001b[1;36m3\u001b[0m\u001b[1;33m]\u001b[0m\u001b[1;33m,\u001b[0m \u001b[0mkwargs\u001b[0m\u001b[1;33m)\u001b[0m\u001b[1;33m\u001b[0m\u001b[1;33m\u001b[0m\u001b[0m\n\u001b[0m\u001b[0;32m   1489\u001b[0m             \u001b[0margs\u001b[0m \u001b[1;33m=\u001b[0m \u001b[0margs\u001b[0m\u001b[1;33m[\u001b[0m\u001b[1;36m3\u001b[0m\u001b[1;33m:\u001b[0m\u001b[1;33m]\u001b[0m\u001b[1;33m\u001b[0m\u001b[1;33m\u001b[0m\u001b[0m\n\u001b[0;32m   1490\u001b[0m         \u001b[1;32melse\u001b[0m\u001b[1;33m:\u001b[0m\u001b[1;33m\u001b[0m\u001b[1;33m\u001b[0m\u001b[0m\n",
      "\u001b[1;32m~\\AppData\\Roaming\\Python\\Python39\\site-packages\\matplotlib\\contour.py\u001b[0m in \u001b[0;36m_check_xyz\u001b[1;34m(self, args, kwargs)\u001b[0m\n\u001b[0;32m   1517\u001b[0m \u001b[1;33m\u001b[0m\u001b[0m\n\u001b[0;32m   1518\u001b[0m         \u001b[1;32mif\u001b[0m \u001b[0mz\u001b[0m\u001b[1;33m.\u001b[0m\u001b[0mndim\u001b[0m \u001b[1;33m!=\u001b[0m \u001b[1;36m2\u001b[0m\u001b[1;33m:\u001b[0m\u001b[1;33m\u001b[0m\u001b[1;33m\u001b[0m\u001b[0m\n\u001b[1;32m-> 1519\u001b[1;33m             \u001b[1;32mraise\u001b[0m \u001b[0mTypeError\u001b[0m\u001b[1;33m(\u001b[0m\u001b[1;34mf\"Input z must be 2D, not {z.ndim}D\"\u001b[0m\u001b[1;33m)\u001b[0m\u001b[1;33m\u001b[0m\u001b[1;33m\u001b[0m\u001b[0m\n\u001b[0m\u001b[0;32m   1520\u001b[0m         \u001b[1;32mif\u001b[0m \u001b[0mz\u001b[0m\u001b[1;33m.\u001b[0m\u001b[0mshape\u001b[0m\u001b[1;33m[\u001b[0m\u001b[1;36m0\u001b[0m\u001b[1;33m]\u001b[0m \u001b[1;33m<\u001b[0m \u001b[1;36m2\u001b[0m \u001b[1;32mor\u001b[0m \u001b[0mz\u001b[0m\u001b[1;33m.\u001b[0m\u001b[0mshape\u001b[0m\u001b[1;33m[\u001b[0m\u001b[1;36m1\u001b[0m\u001b[1;33m]\u001b[0m \u001b[1;33m<\u001b[0m \u001b[1;36m2\u001b[0m\u001b[1;33m:\u001b[0m\u001b[1;33m\u001b[0m\u001b[1;33m\u001b[0m\u001b[0m\n\u001b[0;32m   1521\u001b[0m             raise TypeError(f\"Input z must be at least a (2, 2) shaped array, \"\n",
      "\u001b[1;31mTypeError\u001b[0m: Input z must be 2D, not 1D"
     ]
    },
    {
     "data": {
      "image/png": "[encoded data removed]",
      "text/plain": [
       "<Figure size 432x288 with 1 Axes>"
      ]
     },
     "metadata": {
      "needs_background": "light"
     },
     "output_type": "display_data"
    }
   ],
   "source": [
    "# Visualising the Training set results\n",
    "from matplotlib.colors import ListedColormap\n",
    "from sklearn.naive_bayes import GaussianNB\n",
    "\n",
    "classifier = GaussianNB()\n",
    "classifier.fit(train_features[:,:1], train_targets)\n",
    "\n",
    "X_set, y_set = train_features, train_targets\n",
    "X1, X2 = np.meshgrid(np.arange(start = X_set[:, 0].min() - 1, stop = X_set[:, 0].max() + 1, step = 0.1),\n",
    "                     np.arange(start = X_set[:, 1].min() - 1, stop = X_set[:, 1].max() + 1, step = 0.1))\n",
    "plt.contourf(X1, X2, classifier.predict(np.array([X1.ravel(), X2.ravel()]).T).reshape(X1.shape),\n",
    "             alpha = 0.75, cmap = ListedColormap(('orange', 'green')))\n",
    "plt.xlim(X1.min(), X1.max())\n",
    "plt.ylim(X2.min(), X2.max())\n",
    "for i, j in enumerate(np.unique(y_set)):\n",
    "    plt.scatter(X_set[y_set == j, 0], X_set[y_set == j, 1],\n",
    "                c = ListedColormap(('red', 'green'))(i), label = j,marker='.')\n",
    "plt.title('Naive Bayes Classification our implementation(Training set)')\n",
    "plt.xlabel({breast_cancer['feature_names'][0]})\n",
    "plt.ylabel({breast_cancer['feature_names'][1]})\n",
    "plt.legend()\n",
    "plt.show()\n",
    "\n",
    "\n",
    "\n",
    "# Visualising the Training set results\n",
    "from matplotlib.colors import ListedColormap\n",
    "from sklearn.naive_bayes import GaussianNB\n",
    "\n",
    "classifier = GaussianNB()\n",
    "classifier.fit(train_features[:,:1], train_targets)\n",
    "\n",
    "X_set, y_set = train_features, train_targets\n",
    "X1, X2 = np.meshgrid(np.arange(start = X_set[:, 0].min() - 1, stop = X_set[:, 0].max() + 1, step = 0.1),\n",
    "                     np.arange(start = X_set[:, 1].min() - 1, stop = X_set[:, 1].max() + 1, step = 0.1))\n",
    "plt.contourf(X1, X2, predictions,\n",
    "             alpha = 0.75, cmap = ListedColormap(('orange', 'green')))\n",
    "plt.xlim(X1.min(), X1.max())\n",
    "plt.ylim(X2.min(), X2.max())\n",
    "for i, j in enumerate(np.unique(y_set)):\n",
    "    plt.scatter(X_set[y_set == j, 0], X_set[y_set == j, 1],\n",
    "                c = ListedColormap(('red', 'green'))(i), label = j,marker='.')\n",
    "plt.title('Naive Bayes Classification our implementation(Training set)')\n",
    "plt.xlabel({breast_cancer['feature_names'][0]})\n",
    "plt.ylabel({breast_cancer['feature_names'][1]})\n",
    "plt.legend()\n",
    "plt.show()"
   ]
  },
  {
   "cell_type": "code",
   "execution_count": null,
   "id": "governmental-canal",
   "metadata": {},
   "outputs": [],
   "source": [
    "\n",
    "#https://machinelearningmastery.com/bayes-theorem-for-machine-learning/\n",
    "    \n",
    "#https://machinelearningmastery.com/classification-as-conditional-probability-and-the-naive-bayes-algorithm/\n",
    "\n",
    "#https://www.antoniomallia.it/lets-implement-a-gaussian-naive-bayes-classifier-in-python.html4\n",
    "\n",
    "#https://towardsdatascience.com/maximum-likelihood-estimation-explained-normal-distribution-6207b322e47f"
   ]
  }
 ],
 "metadata": {
  "kernelspec": {
   "display_name": "Python 3",
   "language": "python",
   "name": "python3"
  },
  "language_info": {
   "codemirror_mode": {
    "name": "ipython",
    "version": 3
   },
   "file_extension": ".py",
   "mimetype": "text/x-python",
   "name": "python",
   "nbconvert_exporter": "python",
   "pygments_lexer": "ipython3",
   "version": "3.9.2"
  }
 },
 "nbformat": 4,
 "nbformat_minor": 5
}
