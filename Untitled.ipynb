{
 "cells": [
  {
   "cell_type": "code",
   "execution_count": 1,
   "id": "through-royal",
   "metadata": {},
   "outputs": [],
   "source": [
    "import numpy as np\n",
    "import scipy\n",
    "import matplotlib.pyplot as plt\n",
    "%matplotlib inline\n",
    "#import seaborn as sns\n",
    "from scipy.ndimage import rotate\n",
    "import random\n",
    "import cv2\n",
    "import os"
   ]
  },
  {
   "cell_type": "markdown",
   "id": "sustained-profession",
   "metadata": {},
   "source": [
    "### AUGMENTATION"
   ]
  },
  {
   "cell_type": "code",
   "execution_count": 4,
   "id": "major-savage",
   "metadata": {},
   "outputs": [],
   "source": [
    "#https://medium.com/@schatty/image-augmentation-in-numpy-the-spell-is-simple-but-quite-unbreakable-e1af57bb50fd\n",
    "def rotate_img(img, angle, bg_patch=(5,5)):\n",
    "    assert len(img.shape) <= 3, \"Incorrect image shape\"\n",
    "    rgb = len(img.shape) == 3\n",
    "    if rgb:\n",
    "        bg_color = np.mean(img[:bg_patch[0], :bg_patch[1], :], axis=(0,1))\n",
    "    else:\n",
    "        bg_color = np.mean(img[:bg_patch[0], :bg_patch[1]])\n",
    "    img = rotate(img, angle, reshape=False)\n",
    "    mask = [img <= 0, np.any(img <= 0, axis=-1)][rgb]\n",
    "    img[mask] = bg_color\n",
    "    return img"
   ]
  },
  {
   "cell_type": "code",
   "execution_count": 29,
   "id": "northern-category",
   "metadata": {},
   "outputs": [],
   "source": [
    "files = os.listdir(\"NY//\")\n",
    "\n",
    "ct = len(files)\n",
    "for file in files: \n",
    "    for t in range(5):\n",
    "        ct += 1\n",
    "        #print(file)\n",
    "        img = cv2.imread(os.path.join(\"NY//\", file))\n",
    "        #fig1 = plt.figure()\n",
    "        #plt.imshow(img)\n",
    "        \n",
    "        image = rotate_img(img, random.randint(0, 360))\n",
    "        #fig2 = plt.figure()\n",
    "        #plt.imshow(image)\n",
    "        \n",
    "        filename = f\"NY//image_{ct}.jpg\"\n",
    "        cv2.imwrite(filename, image)"
   ]
  },
  {
   "cell_type": "markdown",
   "id": "virtual-heaven",
   "metadata": {},
   "source": [
    "#### READ AND CONVERT TORCH TENSOR"
   ]
  },
  {
   "cell_type": "code",
   "execution_count": 2,
   "id": "present-mississippi",
   "metadata": {},
   "outputs": [
    {
     "name": "stdout",
     "output_type": "stream",
     "text": [
      "Boston\n",
      "[1. 0.]\n",
      "NY\n",
      "[0. 1.]\n"
     ]
    }
   ],
   "source": [
    "folders = os.listdir(\".data//water_rings/\")\n",
    "\n",
    "file_list = []\n",
    "classes = ['Boston', 'NY']\n",
    "im_size = 1024\n",
    "one_hot_vector = np.eye(len(classes))\n",
    "\n",
    "tag = 0\n",
    "for folder in folders:\n",
    "    print(folder)\n",
    "    print(one_hot_vector[tag])\n",
    "    files = os.listdir(os.path.join(\".data//water_rings/\", folder, \"images\"))\n",
    "    for file in files:\n",
    "        img = cv2.imread(os.path.join(\".data//water_rings/\", folder, \"images\", file), cv2.COLOR_BGR2RGB)\n",
    "        img = cv2.resize(img, (im_size,im_size), cv2.INTER_CUBIC)\n",
    "        #plt.imshow(img)\n",
    "        class_label = one_hot_vector[tag]\n",
    "        file_list.append([img, class_label])\n",
    "    tag += 1"
   ]
  },
  {
   "cell_type": "code",
   "execution_count": 3,
   "id": "rural-jimmy",
   "metadata": {},
   "outputs": [
    {
     "name": "stderr",
     "output_type": "stream",
     "text": [
      "C:\\Users\\baran.tanriverdi\\.conda\\envs\\pytorch\\lib\\site-packages\\numpy\\core\\_asarray.py:102: VisibleDeprecationWarning: Creating an ndarray from ragged nested sequences (which is a list-or-tuple of lists-or-tuples-or ndarrays with different lengths or shapes) is deprecated. If you meant to do this, you must specify 'dtype=object' when creating the ndarray.\n",
      "  return array(a, dtype, copy=False, order=order)\n"
     ]
    }
   ],
   "source": [
    "data = np.asarray(file_list) "
   ]
  },
  {
   "cell_type": "code",
   "execution_count": 4,
   "id": "behavioral-loading",
   "metadata": {},
   "outputs": [
    {
     "data": {
      "text/plain": [
       "((1024, 1024, 3), (2,))"
      ]
     },
     "execution_count": 4,
     "metadata": {},
     "output_type": "execute_result"
    }
   ],
   "source": [
    "data[0,0].shape, data[0,1].shape"
   ]
  },
  {
   "cell_type": "code",
   "execution_count": 5,
   "id": "bizarre-defendant",
   "metadata": {},
   "outputs": [],
   "source": [
    "import torch\n",
    "import torchvision\n",
    "from torch.utils.data import DataLoader\n",
    "from torch.utils.data import TensorDataset \n",
    "from tqdm import tqdm\n",
    "from torch import nn\n",
    "import torch.nn.functional as F"
   ]
  },
  {
   "cell_type": "code",
   "execution_count": 6,
   "id": "linear-stanford",
   "metadata": {},
   "outputs": [
    {
     "name": "stderr",
     "output_type": "stream",
     "text": [
      "100%|██████████| 48/48 [00:00<?, ?it/s]\n",
      "100%|██████████| 48/48 [00:00<?, ?it/s]"
     ]
    },
    {
     "name": "stdout",
     "output_type": "stream",
     "text": [
      "torch.float32 torch.Size([48, 1024, 1024, 3])\n",
      "torch.float64 torch.Size([48, 2])\n"
     ]
    },
    {
     "name": "stderr",
     "output_type": "stream",
     "text": [
      "\n"
     ]
    }
   ],
   "source": [
    "x= torch.as_tensor([i[0] for i in tqdm(data)]) / 255.0\n",
    "print(x.dtype, x.shape)\n",
    "            \n",
    "#classes\n",
    "c =torch.as_tensor([i[1] for i in tqdm(data)]) / 255.0 \n",
    "print(c.dtype, c.shape)\n",
    "            \n",
    "#transposing as (number_of_samples, channels, height, width)\n",
    "#x = x.reshape(-1, 1, self.baseSize, self.baseSize)\n"
   ]
  },
  {
   "cell_type": "code",
   "execution_count": 7,
   "id": "known-psychiatry",
   "metadata": {},
   "outputs": [
    {
     "name": "stdout",
     "output_type": "stream",
     "text": [
      "torch.float32 torch.Size([48, 3, 1024, 1024])\n"
     ]
    }
   ],
   "source": [
    "x = x.permute(0, 3, 1, 2)\n",
    "print(x.dtype, x.shape)"
   ]
  },
  {
   "cell_type": "markdown",
   "id": "painful-closure",
   "metadata": {},
   "source": [
    "#### DEFINE MODEL && PARAMETERS"
   ]
  },
  {
   "cell_type": "code",
   "execution_count": 8,
   "id": "unsigned-vanilla",
   "metadata": {},
   "outputs": [],
   "source": [
    "#neural network with dropout\n",
    "class Net(nn.Module):\n",
    "    def __init__(self):\n",
    "        super().__init__()\n",
    "        self.conv1 = nn.Conv2d(3, 32, 5)\n",
    "        # self.bn1 = nn.BatchNorm2d(num_features=32, eps=1e-05, momentum=0.1, affine=True, track_running_stats=True)\n",
    "        self.conv2 = nn.Conv2d(32, 64, 5)\n",
    "        # self.bn2 = nn.BatchNorm2d(num_features=64, eps=1e-05, momentum=0.1, affine=True, track_running_stats=True)\n",
    "        self.conv3 = nn.Conv2d(64, 128, 5)\n",
    "\n",
    "        x = torch.randn(im_size*3, im_size).view(-1, 3, im_size, im_size)\n",
    "        self._to_linear = None\n",
    "        self.convs(x)\n",
    "\n",
    "        self.fc1 = nn.Linear(self._to_linear, 512)\n",
    "        self.bn1 = nn.BatchNorm1d(num_features=512, eps=1e-05, momentum=0.1, affine=True, track_running_stats=True)\n",
    "        self.fc2 = nn.Linear(512, 2)\n",
    "        #self.dropout = nn.AlphaDropout(p=0.3)\n",
    "\n",
    "    def convs(self, x):\n",
    "        x = F.max_pool2d(F.relu(self.conv1(x)), (2, 2))\n",
    "        #print(\"1:\", x.shape)\n",
    "        x = F.max_pool2d(F.relu(self.conv2(x)), (2, 2))\n",
    "        #print(\"2:\", x.shape)\n",
    "        x = F.max_pool2d(F.relu(self.conv3(x)), (2, 2))\n",
    "        #print(\"3:\", x.shape)\n",
    "\n",
    "\n",
    "        if self._to_linear is None:\n",
    "            self._to_linear = x[0].shape[0] * x[0].shape[1] * x[0].shape[2]\n",
    "        return x\n",
    "\n",
    "        '''>>> # With Learnable Parameters\n",
    "        >>> m = nn.BatchNorm2d(100)\n",
    "        >>> # Without Learnable Parameters\n",
    "        >>> m = nn.BatchNorm2d(100, affine=False)\n",
    "        >>> input = torch.randn(20, 100, 35, 45)\n",
    "        >>> output = m(input)'''\n",
    "\n",
    "    def forward(self, x):\n",
    "        x = self.convs(x)\n",
    "        x = x.view(-1, self._to_linear)\n",
    "        #print(\"4:\", x.shape)\n",
    "        x = F.relu(self.bn1(self.fc1(x)))\n",
    "        #print(\"5:\", x.shape)\n",
    "        x = self.fc2(x)\n",
    "        #print(\"6:\", x.shape)\n",
    "        #x = self.dropout(x)\n",
    "        #print(\"7:\", x.shape)\n",
    "        return F.softmax(x, dim=1)"
   ]
  },
  {
   "cell_type": "code",
   "execution_count": 9,
   "id": "earlier-functionality",
   "metadata": {},
   "outputs": [],
   "source": [
    "model = Net()"
   ]
  },
  {
   "cell_type": "code",
   "execution_count": 10,
   "id": "exempt-wings",
   "metadata": {},
   "outputs": [
    {
     "data": {
      "text/plain": [
       "Net(\n",
       "  (conv1): Conv2d(3, 32, kernel_size=(5, 5), stride=(1, 1))\n",
       "  (conv2): Conv2d(32, 64, kernel_size=(5, 5), stride=(1, 1))\n",
       "  (conv3): Conv2d(64, 128, kernel_size=(5, 5), stride=(1, 1))\n",
       "  (fc1): Linear(in_features=1968128, out_features=512, bias=True)\n",
       "  (bn1): BatchNorm1d(512, eps=1e-05, momentum=0.1, affine=True, track_running_stats=True)\n",
       "  (fc2): Linear(in_features=512, out_features=2, bias=True)\n",
       ")"
      ]
     },
     "execution_count": 10,
     "metadata": {},
     "output_type": "execute_result"
    }
   ],
   "source": [
    "model.eval()  # to stop training"
   ]
  },
  {
   "cell_type": "code",
   "execution_count": 12,
   "id": "refined-handy",
   "metadata": {},
   "outputs": [
    {
     "name": "stdout",
     "output_type": "stream",
     "text": [
      "tensor([[0.4898, 0.5102]], grad_fn=<SoftmaxBackward>)\n",
      "tensor([[0.4916, 0.5084]], grad_fn=<SoftmaxBackward>)\n",
      "tensor([[0.4914, 0.5086]], grad_fn=<SoftmaxBackward>)\n",
      "tensor([[0.4909, 0.5091]], grad_fn=<SoftmaxBackward>)\n",
      "tensor([[0.4897, 0.5103]], grad_fn=<SoftmaxBackward>)\n",
      "tensor([[0.4906, 0.5094]], grad_fn=<SoftmaxBackward>)\n",
      "tensor([[0.4892, 0.5108]], grad_fn=<SoftmaxBackward>)\n",
      "tensor([[0.4901, 0.5099]], grad_fn=<SoftmaxBackward>)\n",
      "tensor([[0.4912, 0.5088]], grad_fn=<SoftmaxBackward>)\n",
      "tensor([[0.4897, 0.5103]], grad_fn=<SoftmaxBackward>)\n"
     ]
    }
   ],
   "source": [
    "# model is randomly initialized\n",
    "for i in range(10):\n",
    "    yhat = model(x[i].unsqueeze(0))\n",
    "    print(yhat)"
   ]
  },
  {
   "cell_type": "markdown",
   "id": "auburn-intranet",
   "metadata": {},
   "source": [
    "## TRAINING PHASE"
   ]
  },
  {
   "cell_type": "code",
   "execution_count": 13,
   "id": "vietnamese-accessory",
   "metadata": {},
   "outputs": [],
   "source": [
    "BATCH_SIZE = 8\n",
    "EPOCHS= 10\n",
    "LEARNING_RATE = 0.01\n",
    "SPLIT_RATIO = 0.8"
   ]
  },
  {
   "cell_type": "code",
   "execution_count": 14,
   "id": "measured-relative",
   "metadata": {},
   "outputs": [
    {
     "name": "stdout",
     "output_type": "stream",
     "text": [
      "38\n",
      "2.0\n"
     ]
    }
   ],
   "source": [
    "\n",
    "\n",
    "boundary = int(len(x) * SPLIT_RATIO)\n",
    "print(boundary)\n",
    "\n",
    "train_Ds = TensorDataset(x[:boundary], c[:boundary])\n",
    "train_ld = DataLoader(train_Ds , batch_size = BATCH_SIZE, shuffle=True)\n",
    "\n",
    "valid_Ds = TensorDataset(x[boundary:], c[boundary:])\n",
    "valid_ld = DataLoader(valid_Ds, batch_size = 1, shuffle= False)\n",
    "\n",
    "modulo = len(valid_ld) / len(train_ld)\n",
    "print(modulo)"
   ]
  },
  {
   "cell_type": "code",
   "execution_count": 15,
   "id": "supposed-telescope",
   "metadata": {},
   "outputs": [],
   "source": [
    "def accuracy(pred, target):\n",
    "    matches = [torch.argmax(i) == torch.argmax(j) for i, j in zip(pred, target)]\n",
    "    acc = matches.count(True) / len(matches)\n",
    "    return acc\n",
    "    \n",
    "    \n",
    "def f1score(y_pred, y_true):\n",
    "    \n",
    "    epsilon = 0.0001\n",
    "    tp = (y_true * y_pred).sum(dim=0).to(torch.float32)\n",
    "    tn = ((1 - y_true) * (1 - y_pred)).sum(dim=0).to(torch.float32)\n",
    "    fp = ((1 - y_true) * y_pred).sum(dim=0).to(torch.float32)\n",
    "    fn = (y_true * (1 - y_pred)).sum(dim=0).to(torch.float32)\n",
    "\n",
    "    precision = tp / (tp + fp + epsilon)\n",
    "    recall = tp / (tp + fn + epsilon)\n",
    "\n",
    "    f1 = 2* (precision*recall) / (precision + recall + epsilon)\n",
    "    f1 = f1.clamp(min=epsilon, max=1-epsilon)\n",
    "    \n",
    "    return f1.mean()\n",
    "\n",
    "cross_entropy = torch.nn.BCELoss()\n",
    "\n",
    "optimizer = optimizer = torch.optim.Adam([ \n",
    "    dict(params=model.parameters(), lr=LEARNING_RATE),\n",
    "])"
   ]
  },
  {
   "cell_type": "code",
   "execution_count": 16,
   "id": "rural-movement",
   "metadata": {},
   "outputs": [
    {
     "data": {
      "text/plain": [
       "Net(\n",
       "  (conv1): Conv2d(3, 32, kernel_size=(5, 5), stride=(1, 1))\n",
       "  (conv2): Conv2d(32, 64, kernel_size=(5, 5), stride=(1, 1))\n",
       "  (conv3): Conv2d(64, 128, kernel_size=(5, 5), stride=(1, 1))\n",
       "  (fc1): Linear(in_features=1968128, out_features=512, bias=True)\n",
       "  (bn1): BatchNorm1d(512, eps=1e-05, momentum=0.1, affine=True, track_running_stats=True)\n",
       "  (fc2): Linear(in_features=512, out_features=2, bias=True)\n",
       ")"
      ]
     },
     "execution_count": 16,
     "metadata": {},
     "output_type": "execute_result"
    }
   ],
   "source": [
    "model.train() # to start training mode"
   ]
  },
  {
   "cell_type": "code",
   "execution_count": 17,
   "id": "romantic-childhood",
   "metadata": {},
   "outputs": [],
   "source": [
    "def forward_pass(x, c, isTraining=False):\n",
    "    \n",
    "    if isTraining:\n",
    "        optimizer.zero_grad()\n",
    "        model.train()\n",
    "\n",
    "    if not isTraining:\n",
    "        model.eval()\n",
    "    \n",
    "    preds = model(x)\n",
    "    \n",
    "    #print(c.dtype)\n",
    "    c = c.to(torch.float32)\n",
    "    #print(c.dtype)\n",
    "    loss = cross_entropy(preds, c)\n",
    "    #acc = accuracy(preds, c)\n",
    "    f1 = f1score(preds, c)\n",
    "    \n",
    "    if isTraining:\n",
    "        loss.backward()\n",
    "        optimizer.step()\n",
    "\n",
    "    return loss, f1"
   ]
  },
  {
   "cell_type": "code",
   "execution_count": 18,
   "id": "ultimate-feelings",
   "metadata": {},
   "outputs": [
    {
     "name": "stderr",
     "output_type": "stream",
     "text": [
      " 10%|█         | 1/10 [01:21<12:16, 81.85s/it]"
     ]
    },
    {
     "name": "stdout",
     "output_type": "stream",
     "text": [
      "loss: 0.8575201034545898, f1: 0.003215841017663479, valid loss: 49.80392074584961, valid_f1: 0.003955073654651642\n"
     ]
    },
    {
     "name": "stderr",
     "output_type": "stream",
     "text": [
      "\r",
      " 20%|██        | 2/10 [02:41<10:45, 80.70s/it]"
     ]
    },
    {
     "name": "stdout",
     "output_type": "stream",
     "text": [
      "loss: 0.8291603922843933, f1: 0.004788266494870186, valid loss: 5.543283462524414, valid_f1: 0.0039550731889903545\n"
     ]
    },
    {
     "name": "stderr",
     "output_type": "stream",
     "text": [
      "\r",
      " 30%|███       | 3/10 [04:02<09:25, 80.78s/it]"
     ]
    },
    {
     "name": "stdout",
     "output_type": "stream",
     "text": [
      "loss: 0.7643439173698425, f1: 0.003451548982411623, valid loss: 1.031057357788086, valid_f1: 0.00395221496000886\n"
     ]
    },
    {
     "name": "stderr",
     "output_type": "stream",
     "text": [
      "\r",
      " 40%|████      | 4/10 [05:22<08:02, 80.43s/it]"
     ]
    },
    {
     "name": "stdout",
     "output_type": "stream",
     "text": [
      "loss: 0.7983184456825256, f1: 0.00409428495913744, valid loss: 0.7836614847183228, valid_f1: 0.003948218654841185\n"
     ]
    },
    {
     "name": "stderr",
     "output_type": "stream",
     "text": [
      "\r",
      " 50%|█████     | 5/10 [06:42<06:40, 80.14s/it]"
     ]
    },
    {
     "name": "stdout",
     "output_type": "stream",
     "text": [
      "loss: 0.7336811423301697, f1: 0.003644526470452547, valid loss: 0.7980523109436035, valid_f1: 0.003948671277612448\n"
     ]
    },
    {
     "name": "stderr",
     "output_type": "stream",
     "text": [
      "\r",
      " 60%|██████    | 6/10 [08:02<05:21, 80.35s/it]"
     ]
    },
    {
     "name": "stdout",
     "output_type": "stream",
     "text": [
      "loss: 0.7598791122436523, f1: 0.003833480179309845, valid loss: 0.711211085319519, valid_f1: 0.0039439755491912365\n"
     ]
    },
    {
     "name": "stderr",
     "output_type": "stream",
     "text": [
      "\r",
      " 70%|███████   | 7/10 [09:24<04:02, 80.77s/it]"
     ]
    },
    {
     "name": "stdout",
     "output_type": "stream",
     "text": [
      "loss: 0.7064382433891296, f1: 0.003872271627187729, valid loss: 0.7104727625846863, valid_f1: 0.003943887073546648\n"
     ]
    },
    {
     "name": "stderr",
     "output_type": "stream",
     "text": [
      "\r",
      " 80%|████████  | 8/10 [10:44<02:40, 80.45s/it]"
     ]
    },
    {
     "name": "stdout",
     "output_type": "stream",
     "text": [
      "loss: 0.7448564767837524, f1: 0.003733266843482852, valid loss: 0.6952320337295532, valid_f1: 0.00394080625846982\n"
     ]
    },
    {
     "name": "stderr",
     "output_type": "stream",
     "text": [
      "\r",
      " 90%|█████████ | 9/10 [12:03<01:20, 80.05s/it]"
     ]
    },
    {
     "name": "stdout",
     "output_type": "stream",
     "text": [
      "loss: 0.6967692375183105, f1: 0.0037639071233570576, valid loss: 0.6935034990310669, valid_f1: 0.003937947563827038\n"
     ]
    },
    {
     "name": "stderr",
     "output_type": "stream",
     "text": [
      "100%|██████████| 10/10 [13:24<00:00, 80.40s/it]"
     ]
    },
    {
     "name": "stdout",
     "output_type": "stream",
     "text": [
      "loss: 0.7430649995803833, f1: 0.004761064890772104, valid loss: 0.6936630010604858, valid_f1: 0.003939856309443712\n"
     ]
    },
    {
     "name": "stderr",
     "output_type": "stream",
     "text": [
      "\n"
     ]
    }
   ],
   "source": [
    "MODEL_NAME = 'lre-2_ep10_bs8_modelv1_bce_loss_adam'\n",
    "\n",
    "LOG = f\".models/{MODEL_NAME}.log\"\n",
    "with open(LOG, \"w\") as f:\n",
    "    for epoch in tqdm(range(EPOCHS)):\n",
    "        for item in range(len(train_ld)):\n",
    "            train_x, train_c = next(iter(train_ld))\n",
    "            loss, acc = forward_pass(train_x, train_c, isTraining= True)\n",
    "\n",
    "            if item % modulo == 0: \n",
    "                val_x, val_c = next(iter(valid_ld))\n",
    "                val_loss, val_acc = forward_pass(val_x, val_c)\n",
    "\n",
    "            f.write(f\"\\n {epoch};\" \n",
    "                         f\"{loss};{acc};\" \n",
    "                         f\"{val_loss}; {val_acc}\")\n",
    "\n",
    "        print(f\"loss: {loss}, f1: {acc}, valid loss: {val_loss}, valid_f1: {val_acc}\")\n",
    "\n",
    "\n",
    "\n",
    "torch.save(model, f\".models/{MODEL_NAME}.pth\")"
   ]
  },
  {
   "cell_type": "code",
   "execution_count": 52,
   "id": "scheduled-dollar",
   "metadata": {},
   "outputs": [
    {
     "data": {
      "text/plain": [
       "<function tqdm.std.tqdm.set_description(self, desc=None, refresh=True)>"
      ]
     },
     "execution_count": 52,
     "metadata": {},
     "output_type": "execute_result"
    }
   ],
   "source": [
    "#https://towardsdatascience.com/the-ultimate-guide-to-binary-classification-metrics-c25c3627dd0a#6687"
   ]
  },
  {
   "cell_type": "code",
   "execution_count": 19,
   "id": "helpful-airplane",
   "metadata": {},
   "outputs": [
    {
     "name": "stdout",
     "output_type": "stream",
     "text": [
      "not enough values to unpack (expected 5, got 1)\n",
      "skipping first row\n"
     ]
    },
    {
     "data": {
      "image/png": "[encoded data removed]",
      "text/plain": [
       "<Figure size 432x288 with 2 Axes>"
      ]
     },
     "metadata": {
      "needs_background": "light"
     },
     "output_type": "display_data"
    }
   ],
   "source": [
    "contents = open(LOG, \"r\").read().split(\"\\n\")\n",
    "\n",
    "epochs = []\n",
    "    \n",
    "losses = []\n",
    "accs = []\n",
    "\n",
    "val_losses = []\n",
    "val_accs = []\n",
    "    \n",
    "for c in contents:\n",
    "    try:\n",
    "        epoch, loss, acc, val_loss, val_acc = c.split(\";\")\n",
    "\n",
    "        epochs.append(int(epoch))\n",
    "            \n",
    "        losses.append(float(loss))\n",
    "        accs.append(float(acc))\n",
    "            \n",
    "        val_losses.append(float(val_loss))\n",
    "        val_accs.append(float(val_acc))\n",
    "            \n",
    "        \n",
    "    except Exception as e:\n",
    "        print(e)\n",
    "        print(\"skipping first row\")\n",
    "    \n",
    "    \n",
    "fig = plt.figure()\n",
    "\n",
    "ax1 = plt.subplot2grid((2, 1), (0, 0))\n",
    "ax2 = plt.subplot2grid((2, 1), (1, 0), sharex=ax1)\n",
    "\n",
    "\n",
    "ax1.plot(epochs, accs, label=\"f1\")\n",
    "ax1.plot(epochs, val_accs, label=\"val_f1\")\n",
    "ax1.legend(loc=2)\n",
    "    \n",
    "ax2.plot(epochs, losses, label=\"loss\")\n",
    "ax2.plot(epochs, val_losses, label=\"val_loss\")\n",
    "ax2.legend(loc=2)\n",
    "plt.show()\n",
    "    "
   ]
  },
  {
   "cell_type": "code",
   "execution_count": null,
   "id": "pursuant-dynamics",
   "metadata": {},
   "outputs": [],
   "source": []
  }
 ],
 "metadata": {
  "kernelspec": {
   "display_name": "Python 3",
   "language": "python",
   "name": "python3"
  },
  "language_info": {
   "codemirror_mode": {
    "name": "ipython",
    "version": 3
   },
   "file_extension": ".py",
   "mimetype": "text/x-python",
   "name": "python",
   "nbconvert_exporter": "python",
   "pygments_lexer": "ipython3",
   "version": "3.9.1"
  }
 },
 "nbformat": 4,
 "nbformat_minor": 5
}
