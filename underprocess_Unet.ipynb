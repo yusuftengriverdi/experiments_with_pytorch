{
 "cells": [
  {
   "cell_type": "code",
   "execution_count": 1,
   "metadata": {},
   "outputs": [],
   "source": [
    "# Install required libs\n",
    "#!pip install -U segmentation-models-pytorch albumentations --user "
   ]
  },
  {
   "cell_type": "code",
   "execution_count": 2,
   "metadata": {},
   "outputs": [],
   "source": [
    "#!pip uninstall -y segmentation-models-pytorch"
   ]
  },
  {
   "cell_type": "markdown",
   "metadata": {},
   "source": [
    "## UNDER PROCESS !!!"
   ]
  },
  {
   "cell_type": "markdown",
   "metadata": {},
   "source": [
    "## Loading data"
   ]
  },
  {
   "cell_type": "markdown",
   "metadata": {},
   "source": [
    "#DATASET INFO HERE\n"
   ]
  },
  {
   "cell_type": "code",
   "execution_count": 8,
   "metadata": {},
   "outputs": [],
   "source": [
    "import os\n",
    "os.environ['CUDA_VISIBLE_DEVICES'] = '0'\n",
    "\n",
    "import numpy as np\n",
    "import cv2\n",
    "import matplotlib.pyplot as plt"
   ]
  },
  {
   "cell_type": "code",
   "execution_count": 11,
   "metadata": {},
   "outputs": [],
   "source": [
    "DATA_DIR = 'C://Users//baran.tanriverdi//Research//.data//pollut//'\n",
    "\n",
    "# load repo with data if it is not exists\n",
    "############"
   ]
  },
  {
   "cell_type": "code",
   "execution_count": 12,
   "metadata": {},
   "outputs": [],
   "source": [
    "x_train_dir = os.path.join(DATA_DIR, 'train//images//')\n",
    "y_train_dir = os.path.join(DATA_DIR, 'train//masks//')\n",
    "\n",
    "x_test_dir = os.path.join(DATA_DIR, 'test//images//')\n",
    "y_test_dir = os.path.join(DATA_DIR, 'test//masks//')"
   ]
  },
  {
   "cell_type": "code",
   "execution_count": 9,
   "metadata": {},
   "outputs": [],
   "source": [
    "import torch\n",
    "import numpy as np\n",
    "import segmentation_models_pytorch as smp"
   ]
  },
  {
   "cell_type": "code",
   "execution_count": 7,
   "metadata": {},
   "outputs": [
    {
     "data": {
      "text/plain": [
       "'C://Users//baran.tanriverdi//Research//.data//pollut//train//images//image (0).jpeg'"
      ]
     },
     "execution_count": 7,
     "metadata": {},
     "output_type": "execute_result"
    }
   ],
   "source": [
    "i=0; os.path.join(x_train_dir, f\"image ({i}).jpeg\")"
   ]
  },
  {
   "cell_type": "code",
   "execution_count": 8,
   "metadata": {},
   "outputs": [],
   "source": [
    "#os.listdir(x_train_dir)"
   ]
  },
  {
   "cell_type": "code",
   "execution_count": 9,
   "metadata": {},
   "outputs": [],
   "source": [
    "from tqdm import tqdm\n",
    "# preparing data.\n",
    "class Dataset():\n",
    "    IMG_SIZE = 64\n",
    "    image_dir = x_train_dir\n",
    "    mask_dir = y_train_dir\n",
    "    x_data = []\n",
    "    y_data = []\n",
    "\n",
    "    imcount = 0\n",
    "\n",
    "    def make_data(self):\n",
    "        for i in tqdm(range(len(os.listdir(self.image_dir)))):\n",
    "            self.imcount +=1\n",
    "            img_path, mask_path = os.path.join(self.image_dir,f\"image ({self.imcount}).jpg\"), os.path.join(self.mask_dir, f\"mask ({self.imcount}).jpg\")\n",
    "            #print(img_path, mask_path)\n",
    "            img, mask = cv2.imread(img_path, cv2.COLOR_BGR2RGB), cv2.imread(mask_path,cv2.IMREAD_GRAYSCALE)\n",
    "            img, mask = cv2.resize(img, (self.IMG_SIZE, self.IMG_SIZE)), cv2.resize(mask, (self.IMG_SIZE, self.IMG_SIZE))   \n",
    "            \n",
    "            self.x_data.append(img); self.y_data.append(mask)\n",
    "            \n",
    "        np.save(os.path.join(DATA_DIR, \"images\"), self.x_data)\n",
    "        np.save(os.path.join(DATA_DIR, \"masks\"), self.y_data)\n",
    "        \n",
    "        print('Images:', self.imcount)"
   ]
  },
  {
   "cell_type": "code",
   "execution_count": 10,
   "metadata": {},
   "outputs": [
    {
     "name": "stderr",
     "output_type": "stream",
     "text": [
      "100%|██████████| 66/66 [00:17<00:00,  3.74it/s]"
     ]
    },
    {
     "name": "stdout",
     "output_type": "stream",
     "text": [
      "Images: 66\n"
     ]
    },
    {
     "name": "stderr",
     "output_type": "stream",
     "text": [
      "\n"
     ]
    }
   ],
   "source": [
    "train_dataset = Dataset()\n",
    "train_dataset.make_data()\n"
   ]
  },
  {
   "cell_type": "markdown",
   "metadata": {},
   "source": [
    "### Augmentations"
   ]
  },
  {
   "cell_type": "markdown",
   "metadata": {},
   "source": [
    "Data augmentation is a powerful technique to increase the amount of your data and prevent model overfitting.  \n",
    "If you not familiar with such trick read some of these articles:\n",
    " - [The Effectiveness of Data Augmentation in Image Classification using Deep\n",
    "Learning](http://cs231n.stanford.edu/reports/2017/pdfs/300.pdf)\n",
    " - [Data Augmentation | How to use Deep Learning when you have Limited Data](https://medium.com/nanonets/how-to-use-deep-learning-when-you-have-limited-data-part-2-data-augmentation-c26971dc8ced)\n",
    " - [Data Augmentation Experimentation](https://towardsdatascience.com/data-augmentation-experimentation-3e274504f04b)\n",
    "\n",
    "Since our dataset is very small we will apply a large number of different augmentations:\n",
    " - horizontal flip\n",
    " - affine transforms\n",
    " - perspective transforms\n",
    " - brightness/contrast/colors manipulations\n",
    " - image bluring and sharpening\n",
    " - gaussian noise\n",
    " - random crops\n",
    "\n",
    "All this transforms can be easily applied with [**Albumentations**](https://github.com/albu/albumentations/) - fast augmentation library.\n",
    "For detailed explanation of image transformations you can look at [kaggle salt segmentation exmaple](https://github.com/albu/albumentations/blob/master/notebooks/example_kaggle_salt.ipynb) provided by [**Albumentations**](https://github.com/albu/albumentations/) authors."
   ]
  },
  {
   "cell_type": "code",
   "execution_count": 11,
   "metadata": {},
   "outputs": [],
   "source": [
    "# AUGMENTATION !! IGNORE THE CODE FOR NOW\n",
    "\n",
    "#data_transform = torchvision.transforms.Resize(64, interpolation=3)"
   ]
  },
  {
   "cell_type": "code",
   "execution_count": 12,
   "metadata": {},
   "outputs": [
    {
     "data": {
      "text/plain": [
       "'import albumentations as albu'"
      ]
     },
     "execution_count": 12,
     "metadata": {},
     "output_type": "execute_result"
    }
   ],
   "source": [
    "\"\"\"import albumentations as albu\"\"\""
   ]
  },
  {
   "cell_type": "code",
   "execution_count": null,
   "metadata": {},
   "outputs": [],
   "source": []
  },
  {
   "cell_type": "code",
   "execution_count": 13,
   "metadata": {},
   "outputs": [],
   "source": [
    "#### Visualize resulted augmented images and masks\n"
   ]
  },
  {
   "cell_type": "markdown",
   "metadata": {},
   "source": [
    "### Dataloader\n",
    "\n",
    "Writing helper class for data extraction, tranformation and preprocessing  \n",
    "https://pytorch.org/docs/stable/data"
   ]
  },
  {
   "cell_type": "code",
   "execution_count": 13,
   "metadata": {},
   "outputs": [],
   "source": [
    "from torch.utils.data import DataLoader\n",
    "from torch.utils.data import TensorDataset \n",
    "from torch import Tensor"
   ]
  },
  {
   "cell_type": "code",
   "execution_count": 14,
   "metadata": {},
   "outputs": [],
   "source": [
    "x = np.load(os.path.join(DATA_DIR, \"images.npy\")) ; y = np.load(os.path.join(DATA_DIR, \"masks.npy\"))\n",
    "            \n",
    "x, y = Tensor(x) / 255.0, Tensor(y) / 255.0 "
   ]
  },
  {
   "cell_type": "code",
   "execution_count": 15,
   "metadata": {},
   "outputs": [
    {
     "name": "stdout",
     "output_type": "stream",
     "text": [
      "torch.Size([66, 64, 64, 3]) torch.Size([66, 64, 64])\n"
     ]
    },
    {
     "data": {
      "text/plain": [
       "(<AxesSubplot:>,\n",
       " <matplotlib.image.AxesImage at 0x220e4af3ec8>,\n",
       " <AxesSubplot:>,\n",
       " <matplotlib.image.AxesImage at 0x220e4b9de88>)"
      ]
     },
     "execution_count": 15,
     "metadata": {},
     "output_type": "execute_result"
    },
    {
     "data": {
      "image/png": "[encoded data removed]",
      "text/plain": [
       "<Figure size 432x288 with 2 Axes>"
      ]
     },
     "metadata": {
      "needs_background": "light"
     },
     "output_type": "display_data"
    }
   ],
   "source": [
    "print(x.shape , y.shape)\n",
    "\n",
    "plt.subplot(1,2,1), plt.imshow(x[11]), plt.subplot(1,2,2), plt.imshow(y[11], cmap= 'gray')"
   ]
  },
  {
   "cell_type": "code",
   "execution_count": 16,
   "metadata": {},
   "outputs": [
    {
     "name": "stdout",
     "output_type": "stream",
     "text": [
      "torch.Size([16, 64, 64, 3])\n",
      "torch.Size([16, 3, 64, 64]) torch.Size([16, 1, 64, 64])\n"
     ]
    },
    {
     "data": {
      "image/png": "[encoded data removed]",
      "text/plain": [
       "<Figure size 432x288 with 1 Axes>"
      ]
     },
     "metadata": {
      "needs_background": "light"
     },
     "output_type": "display_data"
    }
   ],
   "source": [
    "train_x, train_y = x[:50, :,:,:], y[:50,:,:]\n",
    "val_x, val_y = x[50:, :,:,:], y[50:,:,:]\n",
    "\n",
    "print(val_x.shape)\n",
    "plt.imshow(val_x[1])\n",
    "\n",
    "\n",
    "train_x, train_y = train_x.permute(0, -1, 1, 2), train_y.reshape(-1, 1, 64, 64)\n",
    "val_x, val_y = val_x.permute(0, -1, 1, 2), val_y.reshape(-1, 1, 64, 64)\n",
    "print(val_x.shape, val_y.shape)\n"
   ]
  },
  {
   "cell_type": "code",
   "execution_count": 17,
   "metadata": {},
   "outputs": [
    {
     "name": "stdout",
     "output_type": "stream",
     "text": [
      "torch.Size([1, 64, 64])\n"
     ]
    },
    {
     "data": {
      "image/png": "[encoded data removed]",
      "text/plain": [
       "<Figure size 432x288 with 1 Axes>"
      ]
     },
     "metadata": {
      "needs_background": "light"
     },
     "output_type": "display_data"
    }
   ],
   "source": [
    "plt.imshow(val_y[1][0])\n",
    "print(val_y[1].shape)"
   ]
  },
  {
   "cell_type": "code",
   "execution_count": 18,
   "metadata": {},
   "outputs": [
    {
     "name": "stdout",
     "output_type": "stream",
     "text": [
      "16\n"
     ]
    }
   ],
   "source": [
    "BATCH_SIZE = 4\n",
    "\n",
    "train_Ds = TensorDataset(train_x, train_y)\n",
    "train_ld = DataLoader(train_Ds , batch_size = BATCH_SIZE, shuffle=True)\n",
    "\n",
    "valid_Ds = TensorDataset(val_x, val_y)\n",
    "print(len(valid_Ds))\n",
    "valid_ld = DataLoader(valid_Ds, batch_size = 1)\n"
   ]
  },
  {
   "cell_type": "markdown",
   "metadata": {},
   "source": [
    "## Create model and train"
   ]
  },
  {
   "cell_type": "code",
   "execution_count": 19,
   "metadata": {},
   "outputs": [],
   "source": [
    "import torch\n",
    "import numpy as np\n",
    "import segmentation_models_pytorch as smp"
   ]
  },
  {
   "cell_type": "code",
   "execution_count": 20,
   "metadata": {},
   "outputs": [],
   "source": [
    "#help(smp.Unet)"
   ]
  },
  {
   "cell_type": "code",
   "execution_count": 21,
   "metadata": {},
   "outputs": [],
   "source": [
    "ENCODER = 'resnet34'\n",
    "ENCODER_WEIGHTS = None\n",
    "ACTIVATION = 'sigmoid' # could be None for logits or 'softmax2d' for multicalss segmentation\n",
    "DEVICE = 'cpu'\n",
    "\n",
    "# create segmentation model\n",
    "model = smp.Unet(\n",
    "    encoder_name=ENCODER, \n",
    "    encoder_weights=ENCODER_WEIGHTS, \n",
    "    in_channels = 3,\n",
    "    classes=1, \n",
    "    activation=ACTIVATION,\n",
    "    decoder_use_batchnorm = True\n",
    ")\n",
    "\n",
    "#preprocessing_fn = smp.encoders.get_preprocessing_fn(ENCODER, ENCODER_WEIGHTS)"
   ]
  },
  {
   "cell_type": "code",
   "execution_count": 51,
   "metadata": {},
   "outputs": [],
   "source": [
    "#model"
   ]
  },
  {
   "cell_type": "code",
   "execution_count": 22,
   "metadata": {
    "scrolled": false
   },
   "outputs": [
    {
     "data": {
      "text/plain": [
       "torch.Size([1, 1, 64, 64])"
      ]
     },
     "execution_count": 22,
     "metadata": {},
     "output_type": "execute_result"
    }
   ],
   "source": [
    "inin = val_x[1].unsqueeze(0)\n",
    "inin.shape\n",
    "outout = model(inin)\n",
    "outout.shape"
   ]
  },
  {
   "cell_type": "code",
   "execution_count": 23,
   "metadata": {},
   "outputs": [
    {
     "data": {
      "text/plain": [
       "<matplotlib.image.AxesImage at 0x220ec9c5f48>"
      ]
     },
     "execution_count": 23,
     "metadata": {},
     "output_type": "execute_result"
    },
    {
     "data": {
      "image/png": "[encoded data removed]",
      "text/plain": [
       "<Figure size 432x288 with 1 Axes>"
      ]
     },
     "metadata": {
      "needs_background": "light"
     },
     "output_type": "display_data"
    }
   ],
   "source": [
    "outout = (outout.squeeze().detach().numpy().round())\n",
    "plt.imshow(outout)"
   ]
  },
  {
   "cell_type": "code",
   "execution_count": 24,
   "metadata": {},
   "outputs": [],
   "source": [
    "# Dice/F1 score - https://en.wikipedia.org/wiki/S%C3%B8rensen%E2%80%93Dice_coefficient\n",
    "# IoU/Jaccard score - https://en.wikipedia.org/wiki/Jaccard_index\n",
    "\n",
    "loss = smp.utils.losses.DiceLoss()\n",
    "metrics = [\n",
    "    smp.utils.metrics.IoU(threshold=0.5),\n",
    "]\n",
    "\n",
    "optimizer = torch.optim.Adam([ \n",
    "    dict(params=model.parameters(), lr=0.0001),\n",
    "])"
   ]
  },
  {
   "cell_type": "code",
   "execution_count": 25,
   "metadata": {},
   "outputs": [],
   "source": [
    "# create epoch runners \n",
    "# it is a simple loop of iterating over dataloader`s samples\n",
    "\n",
    "DEVICE = 'cpu'\n",
    "train_epoch = smp.utils.train.TrainEpoch(\n",
    "    model, \n",
    "    loss=loss, \n",
    "    metrics=metrics, \n",
    "    optimizer=optimizer,\n",
    "    device=DEVICE,\n",
    "    verbose=True,\n",
    ")\n",
    "\n",
    "valid_epoch = smp.utils.train.ValidEpoch(\n",
    "    model, \n",
    "    loss=loss, \n",
    "    metrics=metrics, \n",
    "    device=DEVICE,\n",
    "    verbose=True,\n",
    ")"
   ]
  },
  {
   "cell_type": "code",
   "execution_count": 26,
   "metadata": {},
   "outputs": [],
   "source": [
    "#help(smp.utils.metrics.IoU)"
   ]
  },
  {
   "cell_type": "code",
   "execution_count": 27,
   "metadata": {},
   "outputs": [
    {
     "name": "stdout",
     "output_type": "stream",
     "text": [
      "\n",
      "Epoch: 0\n",
      "train: 100%|██████████| 13/13 [00:06<00:00,  1.94it/s, dice_loss - 0.5539, iou_score - 0.3523]\n",
      "valid: 100%|██████████| 16/16 [00:00<00:00, 18.76it/s, dice_loss - 0.5934, iou_score - 0.377] \n",
      "Model saved!\n",
      "\n",
      "Epoch: 1\n",
      "train: 100%|██████████| 13/13 [00:06<00:00,  2.01it/s, dice_loss - 0.5027, iou_score - 0.4567]\n",
      "valid: 100%|██████████| 16/16 [00:00<00:00, 16.79it/s, dice_loss - 0.5234, iou_score - 0.4307]\n",
      "Model saved!\n",
      "\n",
      "Epoch: 2\n",
      "train: 100%|██████████| 13/13 [00:06<00:00,  2.03it/s, dice_loss - 0.4505, iou_score - 0.5185]\n",
      "valid: 100%|██████████| 16/16 [00:00<00:00, 19.52it/s, dice_loss - 0.4833, iou_score - 0.4353]\n",
      "Model saved!\n",
      "\n",
      "Epoch: 3\n",
      "train: 100%|██████████| 13/13 [00:06<00:00,  2.01it/s, dice_loss - 0.4287, iou_score - 0.5339]\n",
      "valid: 100%|██████████| 16/16 [00:00<00:00, 19.50it/s, dice_loss - 0.4686, iou_score - 0.4535]\n",
      "Model saved!\n",
      "\n",
      "Epoch: 4\n",
      "train: 100%|██████████| 13/13 [00:06<00:00,  1.97it/s, dice_loss - 0.4075, iou_score - 0.5467]\n",
      "valid: 100%|██████████| 16/16 [00:00<00:00, 18.30it/s, dice_loss - 0.4704, iou_score - 0.443] \n",
      "\n",
      "Epoch: 5\n",
      "train: 100%|██████████| 13/13 [00:06<00:00,  2.08it/s, dice_loss - 0.3819, iou_score - 0.5606]\n",
      "valid: 100%|██████████| 16/16 [00:00<00:00, 16.34it/s, dice_loss - 0.4602, iou_score - 0.4485]\n",
      "\n",
      "Epoch: 6\n",
      "train: 100%|██████████| 13/13 [00:06<00:00,  2.02it/s, dice_loss - 0.3728, iou_score - 0.57]  \n",
      "valid: 100%|██████████| 16/16 [00:00<00:00, 18.48it/s, dice_loss - 0.4566, iou_score - 0.4426]\n",
      "\n",
      "Epoch: 7\n",
      "train: 100%|██████████| 13/13 [00:06<00:00,  1.97it/s, dice_loss - 0.3566, iou_score - 0.5885]\n",
      "valid: 100%|██████████| 16/16 [00:00<00:00, 19.38it/s, dice_loss - 0.4547, iou_score - 0.4469]\n",
      "\n",
      "Epoch: 8\n",
      "train: 100%|██████████| 13/13 [00:06<00:00,  1.95it/s, dice_loss - 0.3472, iou_score - 0.5919]\n",
      "valid: 100%|██████████| 16/16 [00:00<00:00, 19.14it/s, dice_loss - 0.4438, iou_score - 0.4621]\n",
      "Model saved!\n",
      "\n",
      "Epoch: 9\n",
      "train: 100%|██████████| 13/13 [00:06<00:00,  2.01it/s, dice_loss - 0.3297, iou_score - 0.6187]\n",
      "valid: 100%|██████████| 16/16 [00:00<00:00, 17.84it/s, dice_loss - 0.4757, iou_score - 0.4207]\n",
      "\n",
      "Epoch: 10\n",
      "train: 100%|██████████| 13/13 [00:06<00:00,  1.97it/s, dice_loss - 0.3178, iou_score - 0.6253]\n",
      "valid: 100%|██████████| 16/16 [00:00<00:00, 19.51it/s, dice_loss - 0.4425, iou_score - 0.46]  \n",
      "\n",
      "Epoch: 11\n",
      "train: 100%|██████████| 13/13 [00:06<00:00,  1.96it/s, dice_loss - 0.3124, iou_score - 0.6328]\n",
      "valid: 100%|██████████| 16/16 [00:00<00:00, 18.83it/s, dice_loss - 0.4252, iou_score - 0.4708]\n",
      "Model saved!\n",
      "\n",
      "Epoch: 12\n",
      "train: 100%|██████████| 13/13 [00:06<00:00,  2.01it/s, dice_loss - 0.3033, iou_score - 0.643] \n",
      "valid: 100%|██████████| 16/16 [00:00<00:00, 17.33it/s, dice_loss - 0.4518, iou_score - 0.4375]\n",
      "\n",
      "Epoch: 13\n",
      "train: 100%|██████████| 13/13 [00:06<00:00,  1.98it/s, dice_loss - 0.2985, iou_score - 0.6433]\n",
      "valid: 100%|██████████| 16/16 [00:00<00:00, 18.13it/s, dice_loss - 0.4864, iou_score - 0.4026]\n",
      "\n",
      "Epoch: 14\n",
      "train: 100%|██████████| 13/13 [00:06<00:00,  2.01it/s, dice_loss - 0.307, iou_score - 0.6365] \n",
      "valid: 100%|██████████| 16/16 [00:00<00:00, 19.15it/s, dice_loss - 0.4288, iou_score - 0.4649]\n",
      "\n",
      "Epoch: 15\n",
      "train: 100%|██████████| 13/13 [00:06<00:00,  2.02it/s, dice_loss - 0.2765, iou_score - 0.6661]\n",
      "valid: 100%|██████████| 16/16 [00:00<00:00, 19.06it/s, dice_loss - 0.4462, iou_score - 0.4444]\n",
      "\n",
      "Epoch: 16\n",
      "train: 100%|██████████| 13/13 [00:06<00:00,  1.99it/s, dice_loss - 0.2729, iou_score - 0.6714]\n",
      "valid: 100%|██████████| 16/16 [00:00<00:00, 18.30it/s, dice_loss - 0.4522, iou_score - 0.4376]\n",
      "\n",
      "Epoch: 17\n",
      "train: 100%|██████████| 13/13 [00:06<00:00,  2.06it/s, dice_loss - 0.2623, iou_score - 0.6845]\n",
      "valid: 100%|██████████| 16/16 [00:00<00:00, 18.92it/s, dice_loss - 0.4593, iou_score - 0.4314]\n",
      "\n",
      "Epoch: 18\n",
      "train: 100%|██████████| 13/13 [00:06<00:00,  2.02it/s, dice_loss - 0.2558, iou_score - 0.6901]\n",
      "valid: 100%|██████████| 16/16 [00:00<00:00, 19.14it/s, dice_loss - 0.4304, iou_score - 0.4588]\n",
      "\n",
      "Epoch: 19\n",
      "train: 100%|██████████| 13/13 [00:06<00:00,  1.97it/s, dice_loss - 0.261, iou_score - 0.6777] \n",
      "valid: 100%|██████████| 16/16 [00:00<00:00, 17.66it/s, dice_loss - 0.4449, iou_score - 0.4417]\n",
      "\n",
      "Epoch: 20\n",
      "train: 100%|██████████| 13/13 [00:06<00:00,  1.97it/s, dice_loss - 0.2612, iou_score - 0.6799]\n",
      "valid: 100%|██████████| 16/16 [00:00<00:00, 17.19it/s, dice_loss - 0.4463, iou_score - 0.4414]\n",
      "\n",
      "Epoch: 21\n",
      "train: 100%|██████████| 13/13 [00:06<00:00,  2.06it/s, dice_loss - 0.2441, iou_score - 0.7016]\n",
      "valid: 100%|██████████| 16/16 [00:00<00:00, 18.64it/s, dice_loss - 0.4375, iou_score - 0.452] \n",
      "\n",
      "Epoch: 22\n",
      "train: 100%|██████████| 13/13 [00:06<00:00,  1.99it/s, dice_loss - 0.2396, iou_score - 0.7025]\n",
      "valid: 100%|██████████| 16/16 [00:00<00:00, 19.22it/s, dice_loss - 0.4263, iou_score - 0.4602]\n",
      "\n",
      "Epoch: 23\n",
      "train: 100%|██████████| 13/13 [00:06<00:00,  1.96it/s, dice_loss - 0.2283, iou_score - 0.7181]\n",
      "valid: 100%|██████████| 16/16 [00:00<00:00, 18.81it/s, dice_loss - 0.4466, iou_score - 0.4403]\n",
      "\n",
      "Epoch: 24\n",
      "train: 100%|██████████| 13/13 [00:06<00:00,  1.98it/s, dice_loss - 0.2333, iou_score - 0.7075]\n",
      "valid: 100%|██████████| 16/16 [00:00<00:00, 17.80it/s, dice_loss - 0.44, iou_score - 0.444]   \n",
      "\n",
      "Epoch: 25\n",
      "train: 100%|██████████| 13/13 [00:06<00:00,  2.03it/s, dice_loss - 0.2188, iou_score - 0.7197]\n",
      "valid: 100%|██████████| 16/16 [00:00<00:00, 18.46it/s, dice_loss - 0.4259, iou_score - 0.4578]\n",
      "Decrease decoder learning rate to 1e-5!\n",
      "\n",
      "Epoch: 26\n",
      "train: 100%|██████████| 13/13 [00:06<00:00,  1.98it/s, dice_loss - 0.2149, iou_score - 0.7261]\n",
      "valid: 100%|██████████| 16/16 [00:00<00:00, 18.91it/s, dice_loss - 0.435, iou_score - 0.4509] \n",
      "\n",
      "Epoch: 27\n",
      "train: 100%|██████████| 13/13 [00:06<00:00,  1.97it/s, dice_loss - 0.224, iou_score - 0.714]  \n",
      "valid: 100%|██████████| 16/16 [00:00<00:00, 18.89it/s, dice_loss - 0.4365, iou_score - 0.4477]\n",
      "\n",
      "Epoch: 28\n",
      "train: 100%|██████████| 13/13 [00:06<00:00,  2.02it/s, dice_loss - 0.2255, iou_score - 0.7132]\n",
      "valid: 100%|██████████| 16/16 [00:00<00:00, 16.61it/s, dice_loss - 0.4336, iou_score - 0.451] \n",
      "\n",
      "Epoch: 29\n",
      "train: 100%|██████████| 13/13 [00:06<00:00,  2.01it/s, dice_loss - 0.2299, iou_score - 0.7082]\n",
      "valid: 100%|██████████| 16/16 [00:00<00:00, 19.52it/s, dice_loss - 0.4332, iou_score - 0.4506]\n",
      "\n",
      "Epoch: 30\n",
      "train: 100%|██████████| 13/13 [00:06<00:00,  1.99it/s, dice_loss - 0.2071, iou_score - 0.7381]\n",
      "valid: 100%|██████████| 16/16 [00:00<00:00, 18.88it/s, dice_loss - 0.4342, iou_score - 0.4508]\n",
      "\n",
      "Epoch: 31\n",
      "train: 100%|██████████| 13/13 [00:06<00:00,  1.97it/s, dice_loss - 0.2358, iou_score - 0.7049]\n",
      "valid: 100%|██████████| 16/16 [00:00<00:00, 19.43it/s, dice_loss - 0.4333, iou_score - 0.4492]\n",
      "\n",
      "Epoch: 32\n",
      "train: 100%|██████████| 13/13 [00:06<00:00,  2.03it/s, dice_loss - 0.2085, iou_score - 0.7399]\n",
      "valid: 100%|██████████| 16/16 [00:00<00:00, 18.38it/s, dice_loss - 0.4338, iou_score - 0.4515]\n",
      "\n",
      "Epoch: 33\n",
      "train: 100%|██████████| 13/13 [00:06<00:00,  1.99it/s, dice_loss - 0.2156, iou_score - 0.7252]\n",
      "valid: 100%|██████████| 16/16 [00:00<00:00, 18.47it/s, dice_loss - 0.4398, iou_score - 0.4464]\n",
      "\n",
      "Epoch: 34\n",
      "train: 100%|██████████| 13/13 [00:06<00:00,  1.96it/s, dice_loss - 0.2189, iou_score - 0.7272]\n",
      "valid: 100%|██████████| 16/16 [00:00<00:00, 18.24it/s, dice_loss - 0.4377, iou_score - 0.4477]\n",
      "\n",
      "Epoch: 35\n",
      "train: 100%|██████████| 13/13 [00:06<00:00,  1.96it/s, dice_loss - 0.2228, iou_score - 0.7186]\n",
      "valid: 100%|██████████| 16/16 [00:00<00:00, 18.68it/s, dice_loss - 0.4334, iou_score - 0.4509]\n",
      "\n",
      "Epoch: 36\n",
      "train: 100%|██████████| 13/13 [00:06<00:00,  2.01it/s, dice_loss - 0.2278, iou_score - 0.7128]\n",
      "valid: 100%|██████████| 16/16 [00:00<00:00, 17.08it/s, dice_loss - 0.4303, iou_score - 0.4536]\n",
      "\n",
      "Epoch: 37\n",
      "train: 100%|██████████| 13/13 [00:06<00:00,  2.03it/s, dice_loss - 0.2128, iou_score - 0.7276]\n",
      "valid: 100%|██████████| 16/16 [00:00<00:00, 18.27it/s, dice_loss - 0.4317, iou_score - 0.4532]\n",
      "\n",
      "Epoch: 38\n",
      "train: 100%|██████████| 13/13 [00:06<00:00,  1.99it/s, dice_loss - 0.2247, iou_score - 0.7187]\n",
      "valid: 100%|██████████| 16/16 [00:00<00:00, 18.05it/s, dice_loss - 0.4396, iou_score - 0.4461]\n",
      "\n",
      "Epoch: 39\n",
      "train: 100%|██████████| 13/13 [00:06<00:00,  2.00it/s, dice_loss - 0.2305, iou_score - 0.7138]\n",
      "valid: 100%|██████████| 16/16 [00:00<00:00, 17.70it/s, dice_loss - 0.4319, iou_score - 0.4516]\n"
     ]
    }
   ],
   "source": [
    "# train model for __ epochs\n",
    "\n",
    "max_score = 0\n",
    "\n",
    "EPOCHS_NUM = 40\n",
    "with open(\"mod.log\", \"a\") as f:\n",
    "    for i in range(0, EPOCHS_NUM):\n",
    "\n",
    "        print('\\nEpoch: {}'.format(i))\n",
    "        train_logs = train_epoch.run(train_ld)\n",
    "        valid_logs = valid_epoch.run(valid_ld)\n",
    "        f.write(f\"\\n {i},\" \n",
    "                 f\"{train_logs['dice_loss']}, {train_logs['iou_score']},\" \n",
    "                 f\"{valid_logs['dice_loss']}, {valid_logs['iou_score']}\")\n",
    "        # do something (save model, change lr, etc.)\n",
    "        if max_score < valid_logs['iou_score']:\n",
    "            max_score = valid_logs['iou_score']\n",
    "            torch.save(model, '.models/best_unet_model.pth')\n",
    "            print('Model saved!')\n",
    "\n",
    "        if i == 25:\n",
    "            optimizer.param_groups[0]['lr'] = 1e-5\n",
    "            print('Decrease decoder learning rate to 1e-5!')"
   ]
  },
  {
   "cell_type": "markdown",
   "metadata": {},
   "source": [
    "## ERROR ANALYSIS\n"
   ]
  },
  {
   "cell_type": "code",
   "execution_count": 31,
   "metadata": {},
   "outputs": [
    {
     "data": {
      "image/png": "[encoded data removed]",
      "text/plain": [
       "<Figure size 432x288 with 2 Axes>"
      ]
     },
     "metadata": {
      "needs_background": "light"
     },
     "output_type": "display_data"
    }
   ],
   "source": [
    "def create_acc_loss_graph():\n",
    "    contents = open(\"mod.log\", \"r\").read().split(\"\\n\")\n",
    "\n",
    "    epochs = []\n",
    "    ious = []\n",
    "    losses = []\n",
    "\n",
    "    val_ious = []\n",
    "    val_losses = []\n",
    "\n",
    "    for c in contents:\n",
    "        epoch, loss, iou, val_loss, val_iou = c.split(\",\")\n",
    "\n",
    "        epochs.append(int(epoch))\n",
    "        ious.append(float(iou))\n",
    "        losses.append(float(loss))\n",
    "\n",
    "        val_ious.append(float(val_iou))\n",
    "        val_losses.append(float(val_loss))\n",
    "\n",
    "    fig = plt.figure()\n",
    "\n",
    "    ax1 = plt.subplot2grid((2, 1), (0, 0))\n",
    "    ax2 = plt.subplot2grid((2, 1), (1, 0), sharex=ax1)\n",
    "\n",
    "    ax1.plot(epochs, ious, label=\"acc\")\n",
    "    ax1.plot(epochs, val_ious, label=\"val_acc\")\n",
    "    ax1.legend(loc=2)\n",
    "    ax2.plot(epochs, losses, label=\"loss\")\n",
    "    ax2.plot(epochs, val_losses, label=\"val_loss\")\n",
    "    ax2.legend(loc=2)\n",
    "    plt.show()\n",
    "    \n",
    "\n",
    "create_acc_loss_graph()\n"
   ]
  },
  {
   "cell_type": "markdown",
   "metadata": {},
   "source": [
    "## Test best saved model"
   ]
  },
  {
   "cell_type": "code",
   "execution_count": 32,
   "metadata": {},
   "outputs": [
    {
     "name": "stdout",
     "output_type": "stream",
     "text": [
      "Model saved!\n"
     ]
    }
   ],
   "source": [
    "# load best saved checkpoint\n",
    "torch.save(model, '.models/best_unet_model.pth')\n",
    "print('Model saved!')\n",
    "\n",
    "best_model = torch.load('.models/best_unet_model.pth')"
   ]
  },
  {
   "cell_type": "code",
   "execution_count": 33,
   "metadata": {},
   "outputs": [
    {
     "name": "stderr",
     "output_type": "stream",
     "text": [
      "100%|██████████| 16/16 [00:03<00:00,  5.19it/s]"
     ]
    },
    {
     "name": "stdout",
     "output_type": "stream",
     "text": [
      "Images: 16\n"
     ]
    },
    {
     "name": "stderr",
     "output_type": "stream",
     "text": [
      "\n"
     ]
    }
   ],
   "source": [
    "\n",
    "from tqdm import tqdm\n",
    "# preparing data.\n",
    "class Dataset():\n",
    "    IMG_SIZE = 64\n",
    "    image_dir = x_test_dir\n",
    "    mask_dir = y_test_dir\n",
    "    x_data = []\n",
    "    y_data = []\n",
    "\n",
    "    imcount = 0\n",
    "\n",
    "    def make_data(self):\n",
    "        for i in tqdm(range(len(os.listdir(self.image_dir)))):\n",
    "            self.imcount +=1\n",
    "            img_path, mask_path = os.path.join(self.image_dir,f\"image ({self.imcount}).jpg\"), os.path.join(self.mask_dir, f\"mask ({self.imcount}).jpg\")\n",
    "            #print(img_path, mask_path)\n",
    "            img, mask = cv2.imread(img_path, cv2.COLOR_BGR2RGB), cv2.imread(mask_path,cv2.IMREAD_GRAYSCALE)\n",
    "            img, mask = cv2.resize(img, (self.IMG_SIZE, self.IMG_SIZE)), cv2.resize(mask, (self.IMG_SIZE, self.IMG_SIZE))   \n",
    "            \n",
    "            self.x_data.append(img); self.y_data.append(mask)\n",
    "            \n",
    "        np.save(os.path.join(DATA_DIR, \"t_images\"), self.x_data)\n",
    "        np.save(os.path.join(DATA_DIR, \"t_masks\"), self.y_data)\n",
    "        \n",
    "        print('Images:', self.imcount)\n",
    "\n",
    "\n",
    "# create test dataset\n",
    "test_dataset = Dataset()\n",
    "test_dataset.make_data()"
   ]
  },
  {
   "cell_type": "code",
   "execution_count": 41,
   "metadata": {},
   "outputs": [],
   "source": [
    "test_x = np.load(os.path.join(DATA_DIR, \"t_images.npy\")) ; test_y = np.load(os.path.join(DATA_DIR, \"t_masks.npy\"))\n",
    "            \n",
    "test_x, test_y = Tensor(test_x) / 255.0, Tensor(test_y) / 255.0 "
   ]
  },
  {
   "cell_type": "code",
   "execution_count": 42,
   "metadata": {},
   "outputs": [
    {
     "name": "stdout",
     "output_type": "stream",
     "text": [
      "torch.Size([16, 3, 64, 64])\n",
      "16\n"
     ]
    }
   ],
   "source": [
    "test_x, test_y = test_x.permute(0, -1, 1, 2), test_y.reshape(-1, 1, 64, 64)\n",
    "print(test_x.shape)\n",
    "test_Ds = TensorDataset(test_x, test_y)\n",
    "print(len(test_Ds))\n",
    "test_ld = DataLoader(test_Ds, batch_size = BATCH_SIZE)\n"
   ]
  },
  {
   "cell_type": "code",
   "execution_count": 43,
   "metadata": {},
   "outputs": [
    {
     "name": "stdout",
     "output_type": "stream",
     "text": [
      "valid: 100%|██████████| 4/4 [00:00<00:00,  8.75it/s, dice_loss - 0.3332, iou_score - 0.5449]\n"
     ]
    }
   ],
   "source": [
    "# evaluate model on test set\n",
    "test_epoch = smp.utils.train.ValidEpoch(\n",
    "    model=best_model,\n",
    "    loss=loss,\n",
    "    metrics=metrics,\n",
    "    device=DEVICE,\n",
    ")\n",
    "\n",
    "logs = test_epoch.run(test_ld)"
   ]
  },
  {
   "cell_type": "markdown",
   "metadata": {},
   "source": [
    "## Visualize predictions"
   ]
  },
  {
   "cell_type": "code",
   "execution_count": 44,
   "metadata": {},
   "outputs": [
    {
     "data": {
      "text/plain": [
       "<matplotlib.image.AxesImage at 0x22081514a08>"
      ]
     },
     "execution_count": 44,
     "metadata": {},
     "output_type": "execute_result"
    },
    {
     "data": {
      "image/png": "[encoded data removed]",
      "text/plain": [
       "<Figure size 432x288 with 3 Axes>"
      ]
     },
     "metadata": {
      "needs_background": "light"
     },
     "output_type": "display_data"
    }
   ],
   "source": [
    "\n",
    "image, gt_mask = val_x[1], val_y[1]\n",
    "#print(image.shape)\n",
    "gt_mask = gt_mask.squeeze()\n",
    "#print(gt_mask.shape)\n",
    "x_tensor = image.unsqueeze(0)\n",
    " #print(x_tensor.shape)\n",
    "pr_mask = best_model.predict(x_tensor)\n",
    "pr_mask = (pr_mask.squeeze().cpu().numpy().round())\n",
    "    \n",
    "plt.subplot(1, 3, 1)\n",
    "plt.imshow(image[0])\n",
    "    \n",
    "plt.subplot(5, 3, 2)\n",
    "plt.imshow(gt_mask)\n",
    "    \n",
    "plt.subplot(5, 3, 3)\n",
    "plt.imshow(pr_mask)\n"
   ]
  },
  {
   "cell_type": "code",
   "execution_count": null,
   "metadata": {},
   "outputs": [],
   "source": []
  }
 ],
 "metadata": {
  "kernelspec": {
   "display_name": "Python 3",
   "language": "python",
   "name": "python3"
  },
  "language_info": {
   "codemirror_mode": {
    "name": "ipython",
    "version": 3
   },
   "file_extension": ".py",
   "mimetype": "text/x-python",
   "name": "python",
   "nbconvert_exporter": "python",
   "pygments_lexer": "ipython3",
   "version": "3.7.9"
  }
 },
 "nbformat": 4,
 "nbformat_minor": 4
}
